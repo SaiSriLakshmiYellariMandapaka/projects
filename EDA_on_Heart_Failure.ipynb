{
  "nbformat": 4,
  "nbformat_minor": 0,
  "metadata": {
    "kernelspec": {
      "display_name": "Python 3",
      "language": "python",
      "name": "python3"
    },
    "language_info": {
      "codemirror_mode": {
        "name": "ipython",
        "version": 3
      },
      "file_extension": ".py",
      "mimetype": "text/x-python",
      "name": "python",
      "nbconvert_exporter": "python",
      "pygments_lexer": "ipython3",
      "version": "3.8.5"
    },
    "colab": {
      "name": "EDA_on_Heart_Failure.ipynb",
      "provenance": []
    }
  },
  "cells": [
    {
      "cell_type": "code",
      "metadata": {
        "id": "GovOGe7g8va2"
      },
      "source": [
        "# Jovian Commit Essentials\n",
        "# Please retain and execute this cell without modifying the contents for `jovian.commit` to work\n",
        "!pip install jovian --upgrade -q\n",
        "import jovian\n",
        "jovian.utils.colab.set_colab_file_id('11Wm4jp5uPXrWV0vmj8c7bOA6RfuvMbIw')"
      ],
      "execution_count": 165,
      "outputs": []
    },
    {
      "cell_type": "markdown",
      "metadata": {
        "id": "d5UB_VVl8vbB"
      },
      "source": [
        "# **An Exploratory Data Analysis on Heart Failure Prediction**\n",
        "\n",
        "We all are aware globally every year the most common of cause of deaths are related to Heart Diseases or Cardiovascular Diseases (CVDs) to be more specific and the prevalent reason is heart failure.\n",
        "\n",
        "This particular dataset contains 12 features that can be used to predict the mortality by heart failure.\n",
        "\n",
        "As a part of the course \"Zero to Pandas\" (http://zerotopandas.com) this is an Exploratory Data Analysis (EDA) Case Study.Also,the course was quite interactive and fun-learning from the scratch of Data Analysis in Python.\n",
        "\n",
        "As a first step, let's upload our Jupyter notebook to Jovian.ml.\n"
      ]
    },
    {
      "cell_type": "markdown",
      "metadata": {
        "id": "YoEOTsWq8vbC"
      },
      "source": [
        "### **Some of the most important libraries used as a part of EDA are as follows:**\n",
        "\n",
        "*   Numpy\n",
        "*   Pandas\n",
        "*   Seaborn\n",
        "*   Matplotlib\n",
        "*   Jovian\n",
        "\n",
        "\n",
        "\n",
        "\n"
      ]
    },
    {
      "cell_type": "markdown",
      "metadata": {
        "id": "0nUB6eF9Bf6t"
      },
      "source": [
        "### **Import essential libraries:**"
      ]
    },
    {
      "cell_type": "code",
      "metadata": {
        "id": "qze6L4uGBrOb"
      },
      "source": [
        "import jovian\n",
        "import numpy as np\n",
        "import pandas as pd\n",
        "import matplotlib.pyplot as plt\n",
        "import seaborn as sns"
      ],
      "execution_count": 166,
      "outputs": []
    },
    {
      "cell_type": "markdown",
      "metadata": {
        "id": "Mi2fc9z78vbE"
      },
      "source": [
        "## Downloading the Dataset\n",
        "\n",
        "The Dataset is from Kaggle  regarding Heart Failure Prediction."
      ]
    },
    {
      "cell_type": "code",
      "metadata": {
        "id": "sJw0WYhY8vbN"
      },
      "source": [
        "!pip install jovian opendatasets --upgrade --quiet"
      ],
      "execution_count": 167,
      "outputs": []
    },
    {
      "cell_type": "markdown",
      "metadata": {
        "id": "QyEmwp9o8vbT"
      },
      "source": [
        "Let's begin by downloading the data, and listing the files within the dataset."
      ]
    },
    {
      "cell_type": "code",
      "metadata": {
        "id": "zKnqVFUe8vbU"
      },
      "source": [
        "dataset_url = 'https://www.kaggle.com/andrewmvd/heart-failure-clinical-data' "
      ],
      "execution_count": 168,
      "outputs": []
    },
    {
      "cell_type": "code",
      "metadata": {
        "id": "0yOMzY348vba",
        "outputId": "0cf97217-44fe-4d01-b171-35bc7a8e84d4",
        "colab": {
          "base_uri": "https://localhost:8080/",
          "height": 68
        }
      },
      "source": [
        "import opendatasets as od\n",
        "od.download(dataset_url)"
      ],
      "execution_count": 169,
      "outputs": [
        {
          "output_type": "stream",
          "text": [
            "Kaggle dataset ID:  andrewmvd/heart-failure-clinical-data\n",
            "Using downloaded and verified file: ./heart-failure-clinical-data.zip\n",
            "Extracting archive ./heart-failure-clinical-data.zip to ./heart-failure-clinical-data\n"
          ],
          "name": "stdout"
        }
      ]
    },
    {
      "cell_type": "markdown",
      "metadata": {
        "id": "fPpnbUwp8vbj"
      },
      "source": [
        "The dataset has been downloaded and extracted."
      ]
    },
    {
      "cell_type": "code",
      "metadata": {
        "id": "VHG68wMn8vbk"
      },
      "source": [
        "data_dir ='/content/heart-failure-clinical-data'"
      ],
      "execution_count": 170,
      "outputs": []
    },
    {
      "cell_type": "code",
      "metadata": {
        "id": "WTRpA1vT8vbr",
        "outputId": "1867254f-7c8e-424e-de35-945a3ceedb95",
        "colab": {
          "base_uri": "https://localhost:8080/",
          "height": 34
        }
      },
      "source": [
        "import os\n",
        "os.listdir(data_dir)"
      ],
      "execution_count": 171,
      "outputs": [
        {
          "output_type": "execute_result",
          "data": {
            "text/plain": [
              "['heart_failure_clinical_records_dataset.csv']"
            ]
          },
          "metadata": {
            "tags": []
          },
          "execution_count": 171
        }
      ]
    },
    {
      "cell_type": "markdown",
      "metadata": {
        "id": "Oe8o6Anb8vby"
      },
      "source": [
        "Let us save and upload our work to Jovian before continuing."
      ]
    },
    {
      "cell_type": "code",
      "metadata": {
        "id": "DNvSSAV88vbz"
      },
      "source": [
        "project_name = \"exploratory-data-analysis-of-heart-failure-prediction\" "
      ],
      "execution_count": 172,
      "outputs": []
    },
    {
      "cell_type": "code",
      "metadata": {
        "id": "MHrbBwr_8vb7"
      },
      "source": [
        "!pip install jovian --upgrade -q"
      ],
      "execution_count": 173,
      "outputs": []
    },
    {
      "cell_type": "code",
      "metadata": {
        "id": "2mV-WHC48vcA"
      },
      "source": [
        "import jovian"
      ],
      "execution_count": 175,
      "outputs": []
    },
    {
      "cell_type": "code",
      "metadata": {
        "id": "v_5Fx9LM8vcF",
        "outputId": "2f382c08-3a2a-430a-81e6-fb92d2d2ec36",
        "colab": {
          "base_uri": "https://localhost:8080/",
          "height": 86
        }
      },
      "source": [
        "jovian.commit(project=project_name)"
      ],
      "execution_count": 174,
      "outputs": [
        {
          "output_type": "stream",
          "text": [
            "[jovian] Detected Colab notebook...\u001b[0m\n",
            "[jovian] Uploading colab notebook to Jovian...\u001b[0m\n",
            "[jovian] Committed successfully! https://jovian.ml/srilakshmimandapaka/exploratory-data-analysis-of-heart-failure-prediction\u001b[0m\n"
          ],
          "name": "stdout"
        },
        {
          "output_type": "execute_result",
          "data": {
            "application/vnd.google.colaboratory.intrinsic+json": {
              "type": "string"
            },
            "text/plain": [
              "'https://jovian.ml/srilakshmimandapaka/exploratory-data-analysis-of-heart-failure-prediction'"
            ]
          },
          "metadata": {
            "tags": []
          },
          "execution_count": 174
        }
      ]
    },
    {
      "cell_type": "markdown",
      "metadata": {
        "id": "ckpnKaV68vcP"
      },
      "source": [
        "## **Reading Dataset**\n",
        "\n",
        "Generally,wherever data is involved and an analysis is to be performed on it, Data Preparation and Cleaning plays an important role.\n",
        "\n",
        "\n"
      ]
    },
    {
      "cell_type": "markdown",
      "metadata": {
        "id": "gYlAmsFYA8HP"
      },
      "source": [
        "We read the dataset using Pandas library by making use of functions like:\n",
        "\n",
        "**pd.read_csv** - Read data from a Comma Separated Value(CSV) file into a Pandas DataFrame object\n",
        "\n",
        "Below, we have created a Pandas data frame named \"heart_df\" to hold the dataset"
      ]
    },
    {
      "cell_type": "code",
      "metadata": {
        "id": "fiqV4sJZ8vcW"
      },
      "source": [
        "heart_df = pd.read_csv('/content/heart-failure-clinical-data/heart_failure_clinical_records_dataset.csv')\n"
      ],
      "execution_count": 176,
      "outputs": []
    },
    {
      "cell_type": "code",
      "metadata": {
        "id": "AdwOneuT8vcg",
        "outputId": "a56fa388-fb2e-4751-9ade-1060dcfb7f4e",
        "colab": {
          "base_uri": "https://localhost:8080/",
          "height": 439
        }
      },
      "source": [
        "heart_df"
      ],
      "execution_count": 177,
      "outputs": [
        {
          "output_type": "execute_result",
          "data": {
            "text/html": [
              "<div>\n",
              "<style scoped>\n",
              "    .dataframe tbody tr th:only-of-type {\n",
              "        vertical-align: middle;\n",
              "    }\n",
              "\n",
              "    .dataframe tbody tr th {\n",
              "        vertical-align: top;\n",
              "    }\n",
              "\n",
              "    .dataframe thead th {\n",
              "        text-align: right;\n",
              "    }\n",
              "</style>\n",
              "<table border=\"1\" class=\"dataframe\">\n",
              "  <thead>\n",
              "    <tr style=\"text-align: right;\">\n",
              "      <th></th>\n",
              "      <th>age</th>\n",
              "      <th>anaemia</th>\n",
              "      <th>creatinine_phosphokinase</th>\n",
              "      <th>diabetes</th>\n",
              "      <th>ejection_fraction</th>\n",
              "      <th>high_blood_pressure</th>\n",
              "      <th>platelets</th>\n",
              "      <th>serum_creatinine</th>\n",
              "      <th>serum_sodium</th>\n",
              "      <th>sex</th>\n",
              "      <th>smoking</th>\n",
              "      <th>time</th>\n",
              "      <th>DEATH_EVENT</th>\n",
              "    </tr>\n",
              "  </thead>\n",
              "  <tbody>\n",
              "    <tr>\n",
              "      <th>0</th>\n",
              "      <td>75.0</td>\n",
              "      <td>0</td>\n",
              "      <td>582</td>\n",
              "      <td>0</td>\n",
              "      <td>20</td>\n",
              "      <td>1</td>\n",
              "      <td>265000.00</td>\n",
              "      <td>1.9</td>\n",
              "      <td>130</td>\n",
              "      <td>1</td>\n",
              "      <td>0</td>\n",
              "      <td>4</td>\n",
              "      <td>1</td>\n",
              "    </tr>\n",
              "    <tr>\n",
              "      <th>1</th>\n",
              "      <td>55.0</td>\n",
              "      <td>0</td>\n",
              "      <td>7861</td>\n",
              "      <td>0</td>\n",
              "      <td>38</td>\n",
              "      <td>0</td>\n",
              "      <td>263358.03</td>\n",
              "      <td>1.1</td>\n",
              "      <td>136</td>\n",
              "      <td>1</td>\n",
              "      <td>0</td>\n",
              "      <td>6</td>\n",
              "      <td>1</td>\n",
              "    </tr>\n",
              "    <tr>\n",
              "      <th>2</th>\n",
              "      <td>65.0</td>\n",
              "      <td>0</td>\n",
              "      <td>146</td>\n",
              "      <td>0</td>\n",
              "      <td>20</td>\n",
              "      <td>0</td>\n",
              "      <td>162000.00</td>\n",
              "      <td>1.3</td>\n",
              "      <td>129</td>\n",
              "      <td>1</td>\n",
              "      <td>1</td>\n",
              "      <td>7</td>\n",
              "      <td>1</td>\n",
              "    </tr>\n",
              "    <tr>\n",
              "      <th>3</th>\n",
              "      <td>50.0</td>\n",
              "      <td>1</td>\n",
              "      <td>111</td>\n",
              "      <td>0</td>\n",
              "      <td>20</td>\n",
              "      <td>0</td>\n",
              "      <td>210000.00</td>\n",
              "      <td>1.9</td>\n",
              "      <td>137</td>\n",
              "      <td>1</td>\n",
              "      <td>0</td>\n",
              "      <td>7</td>\n",
              "      <td>1</td>\n",
              "    </tr>\n",
              "    <tr>\n",
              "      <th>4</th>\n",
              "      <td>65.0</td>\n",
              "      <td>1</td>\n",
              "      <td>160</td>\n",
              "      <td>1</td>\n",
              "      <td>20</td>\n",
              "      <td>0</td>\n",
              "      <td>327000.00</td>\n",
              "      <td>2.7</td>\n",
              "      <td>116</td>\n",
              "      <td>0</td>\n",
              "      <td>0</td>\n",
              "      <td>8</td>\n",
              "      <td>1</td>\n",
              "    </tr>\n",
              "    <tr>\n",
              "      <th>...</th>\n",
              "      <td>...</td>\n",
              "      <td>...</td>\n",
              "      <td>...</td>\n",
              "      <td>...</td>\n",
              "      <td>...</td>\n",
              "      <td>...</td>\n",
              "      <td>...</td>\n",
              "      <td>...</td>\n",
              "      <td>...</td>\n",
              "      <td>...</td>\n",
              "      <td>...</td>\n",
              "      <td>...</td>\n",
              "      <td>...</td>\n",
              "    </tr>\n",
              "    <tr>\n",
              "      <th>294</th>\n",
              "      <td>62.0</td>\n",
              "      <td>0</td>\n",
              "      <td>61</td>\n",
              "      <td>1</td>\n",
              "      <td>38</td>\n",
              "      <td>1</td>\n",
              "      <td>155000.00</td>\n",
              "      <td>1.1</td>\n",
              "      <td>143</td>\n",
              "      <td>1</td>\n",
              "      <td>1</td>\n",
              "      <td>270</td>\n",
              "      <td>0</td>\n",
              "    </tr>\n",
              "    <tr>\n",
              "      <th>295</th>\n",
              "      <td>55.0</td>\n",
              "      <td>0</td>\n",
              "      <td>1820</td>\n",
              "      <td>0</td>\n",
              "      <td>38</td>\n",
              "      <td>0</td>\n",
              "      <td>270000.00</td>\n",
              "      <td>1.2</td>\n",
              "      <td>139</td>\n",
              "      <td>0</td>\n",
              "      <td>0</td>\n",
              "      <td>271</td>\n",
              "      <td>0</td>\n",
              "    </tr>\n",
              "    <tr>\n",
              "      <th>296</th>\n",
              "      <td>45.0</td>\n",
              "      <td>0</td>\n",
              "      <td>2060</td>\n",
              "      <td>1</td>\n",
              "      <td>60</td>\n",
              "      <td>0</td>\n",
              "      <td>742000.00</td>\n",
              "      <td>0.8</td>\n",
              "      <td>138</td>\n",
              "      <td>0</td>\n",
              "      <td>0</td>\n",
              "      <td>278</td>\n",
              "      <td>0</td>\n",
              "    </tr>\n",
              "    <tr>\n",
              "      <th>297</th>\n",
              "      <td>45.0</td>\n",
              "      <td>0</td>\n",
              "      <td>2413</td>\n",
              "      <td>0</td>\n",
              "      <td>38</td>\n",
              "      <td>0</td>\n",
              "      <td>140000.00</td>\n",
              "      <td>1.4</td>\n",
              "      <td>140</td>\n",
              "      <td>1</td>\n",
              "      <td>1</td>\n",
              "      <td>280</td>\n",
              "      <td>0</td>\n",
              "    </tr>\n",
              "    <tr>\n",
              "      <th>298</th>\n",
              "      <td>50.0</td>\n",
              "      <td>0</td>\n",
              "      <td>196</td>\n",
              "      <td>0</td>\n",
              "      <td>45</td>\n",
              "      <td>0</td>\n",
              "      <td>395000.00</td>\n",
              "      <td>1.6</td>\n",
              "      <td>136</td>\n",
              "      <td>1</td>\n",
              "      <td>1</td>\n",
              "      <td>285</td>\n",
              "      <td>0</td>\n",
              "    </tr>\n",
              "  </tbody>\n",
              "</table>\n",
              "<p>299 rows × 13 columns</p>\n",
              "</div>"
            ],
            "text/plain": [
              "      age  anaemia  creatinine_phosphokinase  ...  smoking  time  DEATH_EVENT\n",
              "0    75.0        0                       582  ...        0     4            1\n",
              "1    55.0        0                      7861  ...        0     6            1\n",
              "2    65.0        0                       146  ...        1     7            1\n",
              "3    50.0        1                       111  ...        0     7            1\n",
              "4    65.0        1                       160  ...        0     8            1\n",
              "..    ...      ...                       ...  ...      ...   ...          ...\n",
              "294  62.0        0                        61  ...        1   270            0\n",
              "295  55.0        0                      1820  ...        0   271            0\n",
              "296  45.0        0                      2060  ...        0   278            0\n",
              "297  45.0        0                      2413  ...        1   280            0\n",
              "298  50.0        0                       196  ...        1   285            0\n",
              "\n",
              "[299 rows x 13 columns]"
            ]
          },
          "metadata": {
            "tags": []
          },
          "execution_count": 177
        }
      ]
    },
    {
      "cell_type": "markdown",
      "metadata": {
        "id": "zU6QFmbEEFbd"
      },
      "source": [
        "**pd.columns**- Useful to get a glimpse of columns in the data frame\n",
        "\n"
      ]
    },
    {
      "cell_type": "code",
      "metadata": {
        "id": "n4b3MmGz8vcq",
        "outputId": "8655c870-e7a3-4695-bc96-88ab48ae5145",
        "colab": {
          "base_uri": "https://localhost:8080/",
          "height": 102
        }
      },
      "source": [
        "heart_df.columns"
      ],
      "execution_count": 178,
      "outputs": [
        {
          "output_type": "execute_result",
          "data": {
            "text/plain": [
              "Index(['age', 'anaemia', 'creatinine_phosphokinase', 'diabetes',\n",
              "       'ejection_fraction', 'high_blood_pressure', 'platelets',\n",
              "       'serum_creatinine', 'serum_sodium', 'sex', 'smoking', 'time',\n",
              "       'DEATH_EVENT'],\n",
              "      dtype='object')"
            ]
          },
          "metadata": {
            "tags": []
          },
          "execution_count": 178
        }
      ]
    },
    {
      "cell_type": "code",
      "metadata": {
        "id": "ZCNMSOJz8vc-"
      },
      "source": [
        "import jovian"
      ],
      "execution_count": 179,
      "outputs": []
    },
    {
      "cell_type": "code",
      "metadata": {
        "id": "A4rli8FK8vdD",
        "outputId": "4b82e35b-12fa-4872-a75f-02214df88ade",
        "colab": {
          "base_uri": "https://localhost:8080/",
          "height": 86
        }
      },
      "source": [
        "jovian.commit(project=project_name)"
      ],
      "execution_count": 180,
      "outputs": [
        {
          "output_type": "stream",
          "text": [
            "[jovian] Detected Colab notebook...\u001b[0m\n",
            "[jovian] Uploading colab notebook to Jovian...\u001b[0m\n",
            "[jovian] Committed successfully! https://jovian.ml/srilakshmimandapaka/exploratory-data-analysis-of-heart-failure-prediction\u001b[0m\n"
          ],
          "name": "stdout"
        },
        {
          "output_type": "execute_result",
          "data": {
            "application/vnd.google.colaboratory.intrinsic+json": {
              "type": "string"
            },
            "text/plain": [
              "'https://jovian.ml/srilakshmimandapaka/exploratory-data-analysis-of-heart-failure-prediction'"
            ]
          },
          "metadata": {
            "tags": []
          },
          "execution_count": 180
        }
      ]
    },
    {
      "cell_type": "markdown",
      "metadata": {
        "id": "mp6oysJ18vdJ"
      },
      "source": [
        "## **Data Preparation and Cleaning**\n",
        "\n",
        "Generally,wherever data is involved and an analysis has to be performed on it, Data Preparation and Cleaning plays an important role.\n",
        "\n",
        "\n",
        "\n",
        "\n",
        "\n"
      ]
    },
    {
      "cell_type": "markdown",
      "metadata": {
        "id": "qduZ-CYBE8Qq"
      },
      "source": [
        "**pd.describe()** - Useful to view statistical information about numeric columns\n",
        "\n"
      ]
    },
    {
      "cell_type": "code",
      "metadata": {
        "id": "y89LXe0tFB6a",
        "outputId": "63a61ec4-7796-4d35-d8d4-b60925fca108",
        "colab": {
          "base_uri": "https://localhost:8080/",
          "height": 317
        }
      },
      "source": [
        "heart_df.describe()"
      ],
      "execution_count": 181,
      "outputs": [
        {
          "output_type": "execute_result",
          "data": {
            "text/html": [
              "<div>\n",
              "<style scoped>\n",
              "    .dataframe tbody tr th:only-of-type {\n",
              "        vertical-align: middle;\n",
              "    }\n",
              "\n",
              "    .dataframe tbody tr th {\n",
              "        vertical-align: top;\n",
              "    }\n",
              "\n",
              "    .dataframe thead th {\n",
              "        text-align: right;\n",
              "    }\n",
              "</style>\n",
              "<table border=\"1\" class=\"dataframe\">\n",
              "  <thead>\n",
              "    <tr style=\"text-align: right;\">\n",
              "      <th></th>\n",
              "      <th>age</th>\n",
              "      <th>anaemia</th>\n",
              "      <th>creatinine_phosphokinase</th>\n",
              "      <th>diabetes</th>\n",
              "      <th>ejection_fraction</th>\n",
              "      <th>high_blood_pressure</th>\n",
              "      <th>platelets</th>\n",
              "      <th>serum_creatinine</th>\n",
              "      <th>serum_sodium</th>\n",
              "      <th>sex</th>\n",
              "      <th>smoking</th>\n",
              "      <th>time</th>\n",
              "      <th>DEATH_EVENT</th>\n",
              "    </tr>\n",
              "  </thead>\n",
              "  <tbody>\n",
              "    <tr>\n",
              "      <th>count</th>\n",
              "      <td>299.000000</td>\n",
              "      <td>299.000000</td>\n",
              "      <td>299.000000</td>\n",
              "      <td>299.000000</td>\n",
              "      <td>299.000000</td>\n",
              "      <td>299.000000</td>\n",
              "      <td>299.000000</td>\n",
              "      <td>299.00000</td>\n",
              "      <td>299.000000</td>\n",
              "      <td>299.000000</td>\n",
              "      <td>299.00000</td>\n",
              "      <td>299.000000</td>\n",
              "      <td>299.00000</td>\n",
              "    </tr>\n",
              "    <tr>\n",
              "      <th>mean</th>\n",
              "      <td>60.833893</td>\n",
              "      <td>0.431438</td>\n",
              "      <td>581.839465</td>\n",
              "      <td>0.418060</td>\n",
              "      <td>38.083612</td>\n",
              "      <td>0.351171</td>\n",
              "      <td>263358.029264</td>\n",
              "      <td>1.39388</td>\n",
              "      <td>136.625418</td>\n",
              "      <td>0.648829</td>\n",
              "      <td>0.32107</td>\n",
              "      <td>130.260870</td>\n",
              "      <td>0.32107</td>\n",
              "    </tr>\n",
              "    <tr>\n",
              "      <th>std</th>\n",
              "      <td>11.894809</td>\n",
              "      <td>0.496107</td>\n",
              "      <td>970.287881</td>\n",
              "      <td>0.494067</td>\n",
              "      <td>11.834841</td>\n",
              "      <td>0.478136</td>\n",
              "      <td>97804.236869</td>\n",
              "      <td>1.03451</td>\n",
              "      <td>4.412477</td>\n",
              "      <td>0.478136</td>\n",
              "      <td>0.46767</td>\n",
              "      <td>77.614208</td>\n",
              "      <td>0.46767</td>\n",
              "    </tr>\n",
              "    <tr>\n",
              "      <th>min</th>\n",
              "      <td>40.000000</td>\n",
              "      <td>0.000000</td>\n",
              "      <td>23.000000</td>\n",
              "      <td>0.000000</td>\n",
              "      <td>14.000000</td>\n",
              "      <td>0.000000</td>\n",
              "      <td>25100.000000</td>\n",
              "      <td>0.50000</td>\n",
              "      <td>113.000000</td>\n",
              "      <td>0.000000</td>\n",
              "      <td>0.00000</td>\n",
              "      <td>4.000000</td>\n",
              "      <td>0.00000</td>\n",
              "    </tr>\n",
              "    <tr>\n",
              "      <th>25%</th>\n",
              "      <td>51.000000</td>\n",
              "      <td>0.000000</td>\n",
              "      <td>116.500000</td>\n",
              "      <td>0.000000</td>\n",
              "      <td>30.000000</td>\n",
              "      <td>0.000000</td>\n",
              "      <td>212500.000000</td>\n",
              "      <td>0.90000</td>\n",
              "      <td>134.000000</td>\n",
              "      <td>0.000000</td>\n",
              "      <td>0.00000</td>\n",
              "      <td>73.000000</td>\n",
              "      <td>0.00000</td>\n",
              "    </tr>\n",
              "    <tr>\n",
              "      <th>50%</th>\n",
              "      <td>60.000000</td>\n",
              "      <td>0.000000</td>\n",
              "      <td>250.000000</td>\n",
              "      <td>0.000000</td>\n",
              "      <td>38.000000</td>\n",
              "      <td>0.000000</td>\n",
              "      <td>262000.000000</td>\n",
              "      <td>1.10000</td>\n",
              "      <td>137.000000</td>\n",
              "      <td>1.000000</td>\n",
              "      <td>0.00000</td>\n",
              "      <td>115.000000</td>\n",
              "      <td>0.00000</td>\n",
              "    </tr>\n",
              "    <tr>\n",
              "      <th>75%</th>\n",
              "      <td>70.000000</td>\n",
              "      <td>1.000000</td>\n",
              "      <td>582.000000</td>\n",
              "      <td>1.000000</td>\n",
              "      <td>45.000000</td>\n",
              "      <td>1.000000</td>\n",
              "      <td>303500.000000</td>\n",
              "      <td>1.40000</td>\n",
              "      <td>140.000000</td>\n",
              "      <td>1.000000</td>\n",
              "      <td>1.00000</td>\n",
              "      <td>203.000000</td>\n",
              "      <td>1.00000</td>\n",
              "    </tr>\n",
              "    <tr>\n",
              "      <th>max</th>\n",
              "      <td>95.000000</td>\n",
              "      <td>1.000000</td>\n",
              "      <td>7861.000000</td>\n",
              "      <td>1.000000</td>\n",
              "      <td>80.000000</td>\n",
              "      <td>1.000000</td>\n",
              "      <td>850000.000000</td>\n",
              "      <td>9.40000</td>\n",
              "      <td>148.000000</td>\n",
              "      <td>1.000000</td>\n",
              "      <td>1.00000</td>\n",
              "      <td>285.000000</td>\n",
              "      <td>1.00000</td>\n",
              "    </tr>\n",
              "  </tbody>\n",
              "</table>\n",
              "</div>"
            ],
            "text/plain": [
              "              age     anaemia  ...        time  DEATH_EVENT\n",
              "count  299.000000  299.000000  ...  299.000000    299.00000\n",
              "mean    60.833893    0.431438  ...  130.260870      0.32107\n",
              "std     11.894809    0.496107  ...   77.614208      0.46767\n",
              "min     40.000000    0.000000  ...    4.000000      0.00000\n",
              "25%     51.000000    0.000000  ...   73.000000      0.00000\n",
              "50%     60.000000    0.000000  ...  115.000000      0.00000\n",
              "75%     70.000000    1.000000  ...  203.000000      1.00000\n",
              "max     95.000000    1.000000  ...  285.000000      1.00000\n",
              "\n",
              "[8 rows x 13 columns]"
            ]
          },
          "metadata": {
            "tags": []
          },
          "execution_count": 181
        }
      ]
    },
    {
      "cell_type": "markdown",
      "metadata": {
        "id": "jj5XNUDUFJM4"
      },
      "source": [
        "**pd.info()** - Useful to give the basic information about rows,columns and datatypes\n",
        "\n"
      ]
    },
    {
      "cell_type": "code",
      "metadata": {
        "id": "P3NMxnkPFM-U",
        "outputId": "31db2846-2417-44ad-9361-fa317a337425",
        "colab": {
          "base_uri": "https://localhost:8080/",
          "height": 357
        }
      },
      "source": [
        "heart_df.info()"
      ],
      "execution_count": 182,
      "outputs": [
        {
          "output_type": "stream",
          "text": [
            "<class 'pandas.core.frame.DataFrame'>\n",
            "RangeIndex: 299 entries, 0 to 298\n",
            "Data columns (total 13 columns):\n",
            " #   Column                    Non-Null Count  Dtype  \n",
            "---  ------                    --------------  -----  \n",
            " 0   age                       299 non-null    float64\n",
            " 1   anaemia                   299 non-null    int64  \n",
            " 2   creatinine_phosphokinase  299 non-null    int64  \n",
            " 3   diabetes                  299 non-null    int64  \n",
            " 4   ejection_fraction         299 non-null    int64  \n",
            " 5   high_blood_pressure       299 non-null    int64  \n",
            " 6   platelets                 299 non-null    float64\n",
            " 7   serum_creatinine          299 non-null    float64\n",
            " 8   serum_sodium              299 non-null    int64  \n",
            " 9   sex                       299 non-null    int64  \n",
            " 10  smoking                   299 non-null    int64  \n",
            " 11  time                      299 non-null    int64  \n",
            " 12  DEATH_EVENT               299 non-null    int64  \n",
            "dtypes: float64(3), int64(10)\n",
            "memory usage: 30.5 KB\n"
          ],
          "name": "stdout"
        }
      ]
    },
    {
      "cell_type": "markdown",
      "metadata": {
        "id": "gx-M_Bo0FRXn"
      },
      "source": [
        "**pd.shape** - Get the number of rows & columns as a tuple\n",
        "\n"
      ]
    },
    {
      "cell_type": "code",
      "metadata": {
        "id": "FAiHbo5OFVL5",
        "outputId": "97f14446-0351-4891-9a12-d5b6b64d37ac",
        "colab": {
          "base_uri": "https://localhost:8080/",
          "height": 34
        }
      },
      "source": [
        "heart_df.shape"
      ],
      "execution_count": 183,
      "outputs": [
        {
          "output_type": "execute_result",
          "data": {
            "text/plain": [
              "(299, 13)"
            ]
          },
          "metadata": {
            "tags": []
          },
          "execution_count": 183
        }
      ]
    },
    {
      "cell_type": "markdown",
      "metadata": {
        "id": "xKEZzRZbFZ0k"
      },
      "source": [
        "Checking for existence of Null values"
      ]
    },
    {
      "cell_type": "code",
      "metadata": {
        "id": "-BacMWGWFkQW",
        "outputId": "39025ae1-2b7d-48ed-b3b7-351babbd66fe",
        "colab": {
          "base_uri": "https://localhost:8080/",
          "height": 255
        }
      },
      "source": [
        "heart_df.isna().sum()"
      ],
      "execution_count": 184,
      "outputs": [
        {
          "output_type": "execute_result",
          "data": {
            "text/plain": [
              "age                         0\n",
              "anaemia                     0\n",
              "creatinine_phosphokinase    0\n",
              "diabetes                    0\n",
              "ejection_fraction           0\n",
              "high_blood_pressure         0\n",
              "platelets                   0\n",
              "serum_creatinine            0\n",
              "serum_sodium                0\n",
              "sex                         0\n",
              "smoking                     0\n",
              "time                        0\n",
              "DEATH_EVENT                 0\n",
              "dtype: int64"
            ]
          },
          "metadata": {
            "tags": []
          },
          "execution_count": 184
        }
      ]
    },
    {
      "cell_type": "markdown",
      "metadata": {
        "id": "O5Le3_itFqJd"
      },
      "source": [
        "From the above method , we came to know that our dataset is free of Null values."
      ]
    },
    {
      "cell_type": "code",
      "metadata": {
        "id": "w3TVUYBsMmni"
      },
      "source": [
        "import jovian"
      ],
      "execution_count": 185,
      "outputs": []
    },
    {
      "cell_type": "code",
      "metadata": {
        "id": "Z4QhbgoEMm0N",
        "outputId": "3615eaa7-f857-40ed-d3e6-51e892a08b62",
        "colab": {
          "base_uri": "https://localhost:8080/",
          "height": 86
        }
      },
      "source": [
        "jovian.commit(project=project_name)"
      ],
      "execution_count": 186,
      "outputs": [
        {
          "output_type": "stream",
          "text": [
            "[jovian] Detected Colab notebook...\u001b[0m\n",
            "[jovian] Uploading colab notebook to Jovian...\u001b[0m\n",
            "[jovian] Committed successfully! https://jovian.ml/srilakshmimandapaka/exploratory-data-analysis-of-heart-failure-prediction\u001b[0m\n"
          ],
          "name": "stdout"
        },
        {
          "output_type": "execute_result",
          "data": {
            "application/vnd.google.colaboratory.intrinsic+json": {
              "type": "string"
            },
            "text/plain": [
              "'https://jovian.ml/srilakshmimandapaka/exploratory-data-analysis-of-heart-failure-prediction'"
            ]
          },
          "metadata": {
            "tags": []
          },
          "execution_count": 186
        }
      ]
    },
    {
      "cell_type": "markdown",
      "metadata": {
        "id": "c0--pHIzFu-L"
      },
      "source": [
        "## **Exploratory Analysis and Visualization**\n",
        "\n",
        "And..we just arrived at the most interesting part of our analysis...let's get started..!!"
      ]
    },
    {
      "cell_type": "markdown",
      "metadata": {
        "id": "qaK7z0NgGlNo"
      },
      "source": [
        "Let's explore the statistical values for numerical columns in our dataset.\n",
        "Like... \n",
        "* mean()\n",
        "* median()\n",
        "*  sum()"
      ]
    },
    {
      "cell_type": "code",
      "metadata": {
        "id": "JW_pbYkb8vdS",
        "outputId": "7ce1e44d-5bcd-47fc-b76f-fd3c423f504b",
        "colab": {
          "base_uri": "https://localhost:8080/",
          "height": 255
        }
      },
      "source": [
        "heart_df.mean()"
      ],
      "execution_count": 188,
      "outputs": [
        {
          "output_type": "execute_result",
          "data": {
            "text/plain": [
              "age                             60.833893\n",
              "anaemia                          0.431438\n",
              "creatinine_phosphokinase       581.839465\n",
              "diabetes                         0.418060\n",
              "ejection_fraction               38.083612\n",
              "high_blood_pressure              0.351171\n",
              "platelets                   263358.029264\n",
              "serum_creatinine                 1.393880\n",
              "serum_sodium                   136.625418\n",
              "sex                              0.648829\n",
              "smoking                          0.321070\n",
              "time                           130.260870\n",
              "DEATH_EVENT                      0.321070\n",
              "dtype: float64"
            ]
          },
          "metadata": {
            "tags": []
          },
          "execution_count": 188
        }
      ]
    },
    {
      "cell_type": "code",
      "metadata": {
        "id": "NlAJFW008vdW",
        "outputId": "0f367dc7-296b-4a71-ac78-71817a0133b1",
        "colab": {
          "base_uri": "https://localhost:8080/",
          "height": 255
        }
      },
      "source": [
        "heart_df.median()"
      ],
      "execution_count": 189,
      "outputs": [
        {
          "output_type": "execute_result",
          "data": {
            "text/plain": [
              "age                             60.0\n",
              "anaemia                          0.0\n",
              "creatinine_phosphokinase       250.0\n",
              "diabetes                         0.0\n",
              "ejection_fraction               38.0\n",
              "high_blood_pressure              0.0\n",
              "platelets                   262000.0\n",
              "serum_creatinine                 1.1\n",
              "serum_sodium                   137.0\n",
              "sex                              1.0\n",
              "smoking                          0.0\n",
              "time                           115.0\n",
              "DEATH_EVENT                      0.0\n",
              "dtype: float64"
            ]
          },
          "metadata": {
            "tags": []
          },
          "execution_count": 189
        }
      ]
    },
    {
      "cell_type": "code",
      "metadata": {
        "id": "m7Wmar6NH-aq",
        "outputId": "c2edfe39-fbba-418e-d027-246e7a3088fd",
        "colab": {
          "base_uri": "https://localhost:8080/",
          "height": 255
        }
      },
      "source": [
        "heart_df.sum()"
      ],
      "execution_count": 190,
      "outputs": [
        {
          "output_type": "execute_result",
          "data": {
            "text/plain": [
              "age                         1.818933e+04\n",
              "anaemia                     1.290000e+02\n",
              "creatinine_phosphokinase    1.739700e+05\n",
              "diabetes                    1.250000e+02\n",
              "ejection_fraction           1.138700e+04\n",
              "high_blood_pressure         1.050000e+02\n",
              "platelets                   7.874405e+07\n",
              "serum_creatinine            4.167700e+02\n",
              "serum_sodium                4.085100e+04\n",
              "sex                         1.940000e+02\n",
              "smoking                     9.600000e+01\n",
              "time                        3.894800e+04\n",
              "DEATH_EVENT                 9.600000e+01\n",
              "dtype: float64"
            ]
          },
          "metadata": {
            "tags": []
          },
          "execution_count": 190
        }
      ]
    },
    {
      "cell_type": "markdown",
      "metadata": {
        "id": "HfAf1SlB8vdb"
      },
      "source": [
        "Some classification of the dataset can be of giving some notations likewise,as follows:\n",
        "\n",
        "* Sex - Gender of patient Male = 1, Female =0\n",
        "* Age - Age of patient\n",
        "* Diabetes - 0 = No, 1 = Yes\n",
        "* Anaemia - 0 = No, 1 = Yes\n",
        "* High_blood_pressure - 0 = No, 1 = Yes\n",
        "* Smoking - 0 = No, 1 = Yes\n",
        "* DEATH_EVENT - 0 = No, 1 = Yes"
      ]
    },
    {
      "cell_type": "markdown",
      "metadata": {
        "id": "sibAk9_dIgIZ"
      },
      "source": [
        "### **Age**"
      ]
    },
    {
      "cell_type": "markdown",
      "metadata": {
        "id": "CKMucsHRImPZ"
      },
      "source": [
        "**np.unique** - returns the unique values in the given array of values (here dataset)\n",
        "\n"
      ]
    },
    {
      "cell_type": "code",
      "metadata": {
        "id": "ax7XpwJj8vdc",
        "outputId": "f6047618-07e5-493d-a976-4adca6091437",
        "colab": {
          "base_uri": "https://localhost:8080/",
          "height": 119
        }
      },
      "source": [
        "np.unique([heart_df['age']])"
      ],
      "execution_count": 191,
      "outputs": [
        {
          "output_type": "execute_result",
          "data": {
            "text/plain": [
              "array([40.   , 41.   , 42.   , 43.   , 44.   , 45.   , 46.   , 47.   ,\n",
              "       48.   , 49.   , 50.   , 51.   , 52.   , 53.   , 54.   , 55.   ,\n",
              "       56.   , 57.   , 58.   , 59.   , 60.   , 60.667, 61.   , 62.   ,\n",
              "       63.   , 64.   , 65.   , 66.   , 67.   , 68.   , 69.   , 70.   ,\n",
              "       72.   , 73.   , 75.   , 77.   , 78.   , 79.   , 80.   , 81.   ,\n",
              "       82.   , 85.   , 86.   , 87.   , 90.   , 94.   , 95.   ])"
            ]
          },
          "metadata": {
            "tags": []
          },
          "execution_count": 191
        }
      ]
    },
    {
      "cell_type": "code",
      "metadata": {
        "id": "3jepLydi8vdl",
        "outputId": "6b2fbf18-ee47-4ad5-e235-289f5b2f8a9a",
        "colab": {
          "base_uri": "https://localhost:8080/",
          "height": 475
        }
      },
      "source": [
        "plt.figure(figsize=(15,7))\n",
        "plt.title('Distribution of patients across different ages',fontweight=600,fontsize=20)\n",
        "plt.xlabel('Age',fontsize=20)\n",
        "plt.ylabel('Number of patients',fontsize=20)\n",
        "plt.hist(heart_df['age'], bins=np.arange(20,100,5), color='#ccff66');"
      ],
      "execution_count": 192,
      "outputs": [
        {
          "output_type": "display_data",
          "data": {
            "image/png": "[encoded data removed]",
            "text/plain": [
              "<Figure size 1080x504 with 1 Axes>"
            ]
          },
          "metadata": {
            "tags": [],
            "needs_background": "light"
          }
        }
      ]
    },
    {
      "cell_type": "markdown",
      "metadata": {
        "id": "AYGsVdHbJI1v"
      },
      "source": [
        "**nunique()** - function return number of unique elements in the object\n",
        "\n"
      ]
    },
    {
      "cell_type": "code",
      "metadata": {
        "id": "VyePN3w7JNQ_",
        "outputId": "05816419-bd5c-4b40-c213-a11f0a625048",
        "colab": {
          "base_uri": "https://localhost:8080/",
          "height": 34
        }
      },
      "source": [
        "heart_df.age.nunique()"
      ],
      "execution_count": 193,
      "outputs": [
        {
          "output_type": "execute_result",
          "data": {
            "text/plain": [
              "47"
            ]
          },
          "metadata": {
            "tags": []
          },
          "execution_count": 193
        }
      ]
    },
    {
      "cell_type": "markdown",
      "metadata": {
        "id": "zhOxcnIbJT7z"
      },
      "source": [
        "In the above code cell, we can see that the dataset majorly represented people of ages above 40 years.\n",
        "\n",
        "So, now let's segregate our data based on different age groups giving some notations respectively.\n",
        "\n",
        "* Senior Citizen as 'S' (Age above 60)\n",
        "* Middle aged as 'MA' (45-60)\n",
        "* Adult as 'A' (30-45)\n",
        "\n",
        "We can further classify more age groups based on the data occurences like 'Young Adult', 'Teenager', 'Child' etc.,\n",
        "\n",
        "Let's define a function for age categorization"
      ]
    },
    {
      "cell_type": "code",
      "metadata": {
        "id": "NA8sZivKJdrA"
      },
      "source": [
        "def age_category(age):\n",
        "    if age > 60:\n",
        "        return 'S'\n",
        "    elif age > 45 and age  < 60:\n",
        "        return 'MA'\n",
        "    elif age > 30 and age <= 45:\n",
        "        return 'A'"
      ],
      "execution_count": 194,
      "outputs": []
    },
    {
      "cell_type": "markdown",
      "metadata": {
        "id": "8ag6REeNKNQl"
      },
      "source": [
        "### **Gender**\n",
        "\n",
        "Let us see, the 'Gender' classification.\n"
      ]
    },
    {
      "cell_type": "code",
      "metadata": {
        "id": "NUTca5IIKYbw",
        "outputId": "5ca918ff-7678-45f0-800a-56ede97a72ac",
        "colab": {
          "base_uri": "https://localhost:8080/",
          "height": 34
        }
      },
      "source": [
        "np.unique([heart_df['sex']])"
      ],
      "execution_count": 195,
      "outputs": [
        {
          "output_type": "execute_result",
          "data": {
            "text/plain": [
              "array([0, 1])"
            ]
          },
          "metadata": {
            "tags": []
          },
          "execution_count": 195
        }
      ]
    },
    {
      "cell_type": "code",
      "metadata": {
        "id": "eumrCRAXKcF-",
        "outputId": "e61d3da4-4098-44e4-dc85-ba11d7e4436e",
        "colab": {
          "base_uri": "https://localhost:8080/",
          "height": 34
        }
      },
      "source": [
        "heart_df.sex.nunique()"
      ],
      "execution_count": 196,
      "outputs": [
        {
          "output_type": "execute_result",
          "data": {
            "text/plain": [
              "2"
            ]
          },
          "metadata": {
            "tags": []
          },
          "execution_count": 196
        }
      ]
    },
    {
      "cell_type": "markdown",
      "metadata": {
        "id": "b8mRde-iKqNN"
      },
      "source": [
        "Now that we found only 2 unique values exist for sex column in our dataset.We further classify the representation as follows:\n",
        "\n",
        "* 0 - Female as 'F'\n",
        "* 1 - Male as 'M'"
      ]
    },
    {
      "cell_type": "code",
      "metadata": {
        "id": "xDamQlN4KwFI"
      },
      "source": [
        "def classify_sex(sex):\n",
        "    if sex == 0:\n",
        "        return 'F'\n",
        "    else:\n",
        "        return 'M'"
      ],
      "execution_count": 197,
      "outputs": []
    },
    {
      "cell_type": "code",
      "metadata": {
        "id": "JNaQqdBZKzNa"
      },
      "source": [
        "heart_df['age_category'] = heart_df['age'].apply(lambda age: age_category(age))"
      ],
      "execution_count": 198,
      "outputs": []
    },
    {
      "cell_type": "code",
      "metadata": {
        "id": "FmNR9TyTKzms"
      },
      "source": [
        "heart_df['gender'] = heart_df['sex'].apply(lambda sex : classify_sex(sex))"
      ],
      "execution_count": 199,
      "outputs": []
    },
    {
      "cell_type": "code",
      "metadata": {
        "id": "AGrHo29PCiIK",
        "outputId": "7ea57224-d14e-4f54-d3ec-4ec79a508dd2",
        "colab": {
          "base_uri": "https://localhost:8080/",
          "height": 439
        }
      },
      "source": [
        "heart_df"
      ],
      "execution_count": 202,
      "outputs": [
        {
          "output_type": "execute_result",
          "data": {
            "text/html": [
              "<div>\n",
              "<style scoped>\n",
              "    .dataframe tbody tr th:only-of-type {\n",
              "        vertical-align: middle;\n",
              "    }\n",
              "\n",
              "    .dataframe tbody tr th {\n",
              "        vertical-align: top;\n",
              "    }\n",
              "\n",
              "    .dataframe thead th {\n",
              "        text-align: right;\n",
              "    }\n",
              "</style>\n",
              "<table border=\"1\" class=\"dataframe\">\n",
              "  <thead>\n",
              "    <tr style=\"text-align: right;\">\n",
              "      <th></th>\n",
              "      <th>age</th>\n",
              "      <th>anaemia</th>\n",
              "      <th>creatinine_phosphokinase</th>\n",
              "      <th>diabetes</th>\n",
              "      <th>ejection_fraction</th>\n",
              "      <th>high_blood_pressure</th>\n",
              "      <th>platelets</th>\n",
              "      <th>serum_creatinine</th>\n",
              "      <th>serum_sodium</th>\n",
              "      <th>sex</th>\n",
              "      <th>smoking</th>\n",
              "      <th>time</th>\n",
              "      <th>DEATH_EVENT</th>\n",
              "      <th>age_category</th>\n",
              "      <th>gender</th>\n",
              "    </tr>\n",
              "  </thead>\n",
              "  <tbody>\n",
              "    <tr>\n",
              "      <th>0</th>\n",
              "      <td>75.0</td>\n",
              "      <td>0</td>\n",
              "      <td>582</td>\n",
              "      <td>0</td>\n",
              "      <td>20</td>\n",
              "      <td>1</td>\n",
              "      <td>265000.00</td>\n",
              "      <td>1.9</td>\n",
              "      <td>130</td>\n",
              "      <td>1</td>\n",
              "      <td>0</td>\n",
              "      <td>4</td>\n",
              "      <td>1</td>\n",
              "      <td>S</td>\n",
              "      <td>M</td>\n",
              "    </tr>\n",
              "    <tr>\n",
              "      <th>1</th>\n",
              "      <td>55.0</td>\n",
              "      <td>0</td>\n",
              "      <td>7861</td>\n",
              "      <td>0</td>\n",
              "      <td>38</td>\n",
              "      <td>0</td>\n",
              "      <td>263358.03</td>\n",
              "      <td>1.1</td>\n",
              "      <td>136</td>\n",
              "      <td>1</td>\n",
              "      <td>0</td>\n",
              "      <td>6</td>\n",
              "      <td>1</td>\n",
              "      <td>MA</td>\n",
              "      <td>M</td>\n",
              "    </tr>\n",
              "    <tr>\n",
              "      <th>2</th>\n",
              "      <td>65.0</td>\n",
              "      <td>0</td>\n",
              "      <td>146</td>\n",
              "      <td>0</td>\n",
              "      <td>20</td>\n",
              "      <td>0</td>\n",
              "      <td>162000.00</td>\n",
              "      <td>1.3</td>\n",
              "      <td>129</td>\n",
              "      <td>1</td>\n",
              "      <td>1</td>\n",
              "      <td>7</td>\n",
              "      <td>1</td>\n",
              "      <td>S</td>\n",
              "      <td>M</td>\n",
              "    </tr>\n",
              "    <tr>\n",
              "      <th>3</th>\n",
              "      <td>50.0</td>\n",
              "      <td>1</td>\n",
              "      <td>111</td>\n",
              "      <td>0</td>\n",
              "      <td>20</td>\n",
              "      <td>0</td>\n",
              "      <td>210000.00</td>\n",
              "      <td>1.9</td>\n",
              "      <td>137</td>\n",
              "      <td>1</td>\n",
              "      <td>0</td>\n",
              "      <td>7</td>\n",
              "      <td>1</td>\n",
              "      <td>MA</td>\n",
              "      <td>M</td>\n",
              "    </tr>\n",
              "    <tr>\n",
              "      <th>4</th>\n",
              "      <td>65.0</td>\n",
              "      <td>1</td>\n",
              "      <td>160</td>\n",
              "      <td>1</td>\n",
              "      <td>20</td>\n",
              "      <td>0</td>\n",
              "      <td>327000.00</td>\n",
              "      <td>2.7</td>\n",
              "      <td>116</td>\n",
              "      <td>0</td>\n",
              "      <td>0</td>\n",
              "      <td>8</td>\n",
              "      <td>1</td>\n",
              "      <td>S</td>\n",
              "      <td>F</td>\n",
              "    </tr>\n",
              "    <tr>\n",
              "      <th>...</th>\n",
              "      <td>...</td>\n",
              "      <td>...</td>\n",
              "      <td>...</td>\n",
              "      <td>...</td>\n",
              "      <td>...</td>\n",
              "      <td>...</td>\n",
              "      <td>...</td>\n",
              "      <td>...</td>\n",
              "      <td>...</td>\n",
              "      <td>...</td>\n",
              "      <td>...</td>\n",
              "      <td>...</td>\n",
              "      <td>...</td>\n",
              "      <td>...</td>\n",
              "      <td>...</td>\n",
              "    </tr>\n",
              "    <tr>\n",
              "      <th>294</th>\n",
              "      <td>62.0</td>\n",
              "      <td>0</td>\n",
              "      <td>61</td>\n",
              "      <td>1</td>\n",
              "      <td>38</td>\n",
              "      <td>1</td>\n",
              "      <td>155000.00</td>\n",
              "      <td>1.1</td>\n",
              "      <td>143</td>\n",
              "      <td>1</td>\n",
              "      <td>1</td>\n",
              "      <td>270</td>\n",
              "      <td>0</td>\n",
              "      <td>S</td>\n",
              "      <td>M</td>\n",
              "    </tr>\n",
              "    <tr>\n",
              "      <th>295</th>\n",
              "      <td>55.0</td>\n",
              "      <td>0</td>\n",
              "      <td>1820</td>\n",
              "      <td>0</td>\n",
              "      <td>38</td>\n",
              "      <td>0</td>\n",
              "      <td>270000.00</td>\n",
              "      <td>1.2</td>\n",
              "      <td>139</td>\n",
              "      <td>0</td>\n",
              "      <td>0</td>\n",
              "      <td>271</td>\n",
              "      <td>0</td>\n",
              "      <td>MA</td>\n",
              "      <td>F</td>\n",
              "    </tr>\n",
              "    <tr>\n",
              "      <th>296</th>\n",
              "      <td>45.0</td>\n",
              "      <td>0</td>\n",
              "      <td>2060</td>\n",
              "      <td>1</td>\n",
              "      <td>60</td>\n",
              "      <td>0</td>\n",
              "      <td>742000.00</td>\n",
              "      <td>0.8</td>\n",
              "      <td>138</td>\n",
              "      <td>0</td>\n",
              "      <td>0</td>\n",
              "      <td>278</td>\n",
              "      <td>0</td>\n",
              "      <td>A</td>\n",
              "      <td>F</td>\n",
              "    </tr>\n",
              "    <tr>\n",
              "      <th>297</th>\n",
              "      <td>45.0</td>\n",
              "      <td>0</td>\n",
              "      <td>2413</td>\n",
              "      <td>0</td>\n",
              "      <td>38</td>\n",
              "      <td>0</td>\n",
              "      <td>140000.00</td>\n",
              "      <td>1.4</td>\n",
              "      <td>140</td>\n",
              "      <td>1</td>\n",
              "      <td>1</td>\n",
              "      <td>280</td>\n",
              "      <td>0</td>\n",
              "      <td>A</td>\n",
              "      <td>M</td>\n",
              "    </tr>\n",
              "    <tr>\n",
              "      <th>298</th>\n",
              "      <td>50.0</td>\n",
              "      <td>0</td>\n",
              "      <td>196</td>\n",
              "      <td>0</td>\n",
              "      <td>45</td>\n",
              "      <td>0</td>\n",
              "      <td>395000.00</td>\n",
              "      <td>1.6</td>\n",
              "      <td>136</td>\n",
              "      <td>1</td>\n",
              "      <td>1</td>\n",
              "      <td>285</td>\n",
              "      <td>0</td>\n",
              "      <td>MA</td>\n",
              "      <td>M</td>\n",
              "    </tr>\n",
              "  </tbody>\n",
              "</table>\n",
              "<p>299 rows × 15 columns</p>\n",
              "</div>"
            ],
            "text/plain": [
              "      age  anaemia  creatinine_phosphokinase  ...  DEATH_EVENT  age_category  gender\n",
              "0    75.0        0                       582  ...            1             S       M\n",
              "1    55.0        0                      7861  ...            1            MA       M\n",
              "2    65.0        0                       146  ...            1             S       M\n",
              "3    50.0        1                       111  ...            1            MA       M\n",
              "4    65.0        1                       160  ...            1             S       F\n",
              "..    ...      ...                       ...  ...          ...           ...     ...\n",
              "294  62.0        0                        61  ...            0             S       M\n",
              "295  55.0        0                      1820  ...            0            MA       F\n",
              "296  45.0        0                      2060  ...            0             A       F\n",
              "297  45.0        0                      2413  ...            0             A       M\n",
              "298  50.0        0                       196  ...            0            MA       M\n",
              "\n",
              "[299 rows x 15 columns]"
            ]
          },
          "metadata": {
            "tags": []
          },
          "execution_count": 202
        }
      ]
    },
    {
      "cell_type": "code",
      "metadata": {
        "id": "oBctGfvxK5XI",
        "outputId": "c4078652-3407-4cfe-ba86-aa1956930393",
        "colab": {
          "base_uri": "https://localhost:8080/",
          "height": 486
        }
      },
      "source": [
        "plt.figure(figsize=(15,7))\n",
        "sns.set(style = 'darkgrid')   \n",
        "plt.title(\"Gender distribution\",fontweight=600,fontsize=20)\n",
        "sns.scatterplot(x =\"gender\", y =\"age\", data = heart_df,color='purple') "
      ],
      "execution_count": 203,
      "outputs": [
        {
          "output_type": "execute_result",
          "data": {
            "text/plain": [
              "<matplotlib.axes._subplots.AxesSubplot at 0x7f60f89f0630>"
            ]
          },
          "metadata": {
            "tags": []
          },
          "execution_count": 203
        },
        {
          "output_type": "display_data",
          "data": {
            "image/png": "[encoded data removed]",
            "text/plain": [
              "<Figure size 1080x504 with 1 Axes>"
            ]
          },
          "metadata": {
            "tags": []
          }
        }
      ]
    },
    {
      "cell_type": "markdown",
      "metadata": {
        "id": "aQXU2XdLLHR3"
      },
      "source": [
        "### **Smokers**\n",
        "Let's explore by drawing the percentage of smokers gender wise."
      ]
    },
    {
      "cell_type": "code",
      "metadata": {
        "id": "QTzoBY9CLVJK"
      },
      "source": [
        "smoker_df = heart_df.groupby('gender')[['smoking']].sum().sort_values('smoking', ascending=False)"
      ],
      "execution_count": 204,
      "outputs": []
    },
    {
      "cell_type": "code",
      "metadata": {
        "id": "Z2QVrbGJLdaR",
        "outputId": "3db9a455-6153-442e-ba1f-17c4335adcc7",
        "colab": {
          "base_uri": "https://localhost:8080/",
          "height": 142
        }
      },
      "source": [
        "smoker_prcnt = smoker_df / heart_df['smoking'].sum()*100\n",
        "round(smoker_prcnt,2)"
      ],
      "execution_count": 205,
      "outputs": [
        {
          "output_type": "execute_result",
          "data": {
            "text/html": [
              "<div>\n",
              "<style scoped>\n",
              "    .dataframe tbody tr th:only-of-type {\n",
              "        vertical-align: middle;\n",
              "    }\n",
              "\n",
              "    .dataframe tbody tr th {\n",
              "        vertical-align: top;\n",
              "    }\n",
              "\n",
              "    .dataframe thead th {\n",
              "        text-align: right;\n",
              "    }\n",
              "</style>\n",
              "<table border=\"1\" class=\"dataframe\">\n",
              "  <thead>\n",
              "    <tr style=\"text-align: right;\">\n",
              "      <th></th>\n",
              "      <th>smoking</th>\n",
              "    </tr>\n",
              "    <tr>\n",
              "      <th>gender</th>\n",
              "      <th></th>\n",
              "    </tr>\n",
              "  </thead>\n",
              "  <tbody>\n",
              "    <tr>\n",
              "      <th>M</th>\n",
              "      <td>95.83</td>\n",
              "    </tr>\n",
              "    <tr>\n",
              "      <th>F</th>\n",
              "      <td>4.17</td>\n",
              "    </tr>\n",
              "  </tbody>\n",
              "</table>\n",
              "</div>"
            ],
            "text/plain": [
              "        smoking\n",
              "gender         \n",
              "M         95.83\n",
              "F          4.17"
            ]
          },
          "metadata": {
            "tags": []
          },
          "execution_count": 205
        }
      ]
    },
    {
      "cell_type": "code",
      "metadata": {
        "id": "XDMrqoCuLgGF",
        "outputId": "d620ea71-f76b-46a2-c769-3ddc8efd1050",
        "colab": {
          "base_uri": "https://localhost:8080/",
          "height": 379
        }
      },
      "source": [
        "plt.title(\"Percentage of Smokers Gender-wise\",fontweight =800,fontsize=20)\n",
        "plt.xlabel('Gender',fontsize=15);\n",
        "plt.ylabel('Percentage',fontsize=15)\n",
        "plt.scatter(smoker_prcnt.index,smoker_prcnt.smoking, c =\"black\",linewidths = 20, marker =\"s\", edgecolor =\"brown\",s = 10)  "
      ],
      "execution_count": 206,
      "outputs": [
        {
          "output_type": "execute_result",
          "data": {
            "text/plain": [
              "<matplotlib.collections.PathCollection at 0x7f60f8936cc0>"
            ]
          },
          "metadata": {
            "tags": []
          },
          "execution_count": 206
        },
        {
          "output_type": "display_data",
          "data": {
            "image/png": "[encoded data removed]",
            "text/plain": [
              "<Figure size 648x360 with 1 Axes>"
            ]
          },
          "metadata": {
            "tags": []
          }
        }
      ]
    },
    {
      "cell_type": "markdown",
      "metadata": {
        "id": "kfDOQVJbLwzO"
      },
      "source": [
        "### **Anaemia**\n",
        "We are aware that,Anemia is a condition in which you lack enough healthy red blood cells to carry adequate oxygen to your body's tissues.\n",
        "\n",
        "Lets explore distribution of this condition across different age people."
      ]
    },
    {
      "cell_type": "code",
      "metadata": {
        "id": "yb1IuzXjL5E3"
      },
      "source": [
        "anaemia_df = heart_df.groupby('age')[['anaemia']].count().sort_values('anaemia', ascending=False)"
      ],
      "execution_count": 207,
      "outputs": []
    },
    {
      "cell_type": "code",
      "metadata": {
        "id": "7gamWUylL8pY",
        "outputId": "39a134b5-5e6d-497b-e11c-1941adf386c1",
        "colab": {
          "base_uri": "https://localhost:8080/",
          "height": 1000
        }
      },
      "source": [
        "anaemia_df"
      ],
      "execution_count": 208,
      "outputs": [
        {
          "output_type": "execute_result",
          "data": {
            "text/html": [
              "<div>\n",
              "<style scoped>\n",
              "    .dataframe tbody tr th:only-of-type {\n",
              "        vertical-align: middle;\n",
              "    }\n",
              "\n",
              "    .dataframe tbody tr th {\n",
              "        vertical-align: top;\n",
              "    }\n",
              "\n",
              "    .dataframe thead th {\n",
              "        text-align: right;\n",
              "    }\n",
              "</style>\n",
              "<table border=\"1\" class=\"dataframe\">\n",
              "  <thead>\n",
              "    <tr style=\"text-align: right;\">\n",
              "      <th></th>\n",
              "      <th>anaemia</th>\n",
              "    </tr>\n",
              "    <tr>\n",
              "      <th>age</th>\n",
              "      <th></th>\n",
              "    </tr>\n",
              "  </thead>\n",
              "  <tbody>\n",
              "    <tr>\n",
              "      <th>60.000</th>\n",
              "      <td>33</td>\n",
              "    </tr>\n",
              "    <tr>\n",
              "      <th>50.000</th>\n",
              "      <td>27</td>\n",
              "    </tr>\n",
              "    <tr>\n",
              "      <th>65.000</th>\n",
              "      <td>26</td>\n",
              "    </tr>\n",
              "    <tr>\n",
              "      <th>70.000</th>\n",
              "      <td>25</td>\n",
              "    </tr>\n",
              "    <tr>\n",
              "      <th>45.000</th>\n",
              "      <td>19</td>\n",
              "    </tr>\n",
              "    <tr>\n",
              "      <th>55.000</th>\n",
              "      <td>17</td>\n",
              "    </tr>\n",
              "    <tr>\n",
              "      <th>75.000</th>\n",
              "      <td>11</td>\n",
              "    </tr>\n",
              "    <tr>\n",
              "      <th>58.000</th>\n",
              "      <td>10</td>\n",
              "    </tr>\n",
              "    <tr>\n",
              "      <th>53.000</th>\n",
              "      <td>10</td>\n",
              "    </tr>\n",
              "    <tr>\n",
              "      <th>63.000</th>\n",
              "      <td>8</td>\n",
              "    </tr>\n",
              "    <tr>\n",
              "      <th>40.000</th>\n",
              "      <td>7</td>\n",
              "    </tr>\n",
              "    <tr>\n",
              "      <th>42.000</th>\n",
              "      <td>7</td>\n",
              "    </tr>\n",
              "    <tr>\n",
              "      <th>80.000</th>\n",
              "      <td>7</td>\n",
              "    </tr>\n",
              "    <tr>\n",
              "      <th>72.000</th>\n",
              "      <td>7</td>\n",
              "    </tr>\n",
              "    <tr>\n",
              "      <th>85.000</th>\n",
              "      <td>6</td>\n",
              "    </tr>\n",
              "    <tr>\n",
              "      <th>68.000</th>\n",
              "      <td>5</td>\n",
              "    </tr>\n",
              "    <tr>\n",
              "      <th>62.000</th>\n",
              "      <td>5</td>\n",
              "    </tr>\n",
              "    <tr>\n",
              "      <th>52.000</th>\n",
              "      <td>5</td>\n",
              "    </tr>\n",
              "    <tr>\n",
              "      <th>73.000</th>\n",
              "      <td>4</td>\n",
              "    </tr>\n",
              "    <tr>\n",
              "      <th>59.000</th>\n",
              "      <td>4</td>\n",
              "    </tr>\n",
              "    <tr>\n",
              "      <th>61.000</th>\n",
              "      <td>4</td>\n",
              "    </tr>\n",
              "    <tr>\n",
              "      <th>51.000</th>\n",
              "      <td>4</td>\n",
              "    </tr>\n",
              "    <tr>\n",
              "      <th>49.000</th>\n",
              "      <td>4</td>\n",
              "    </tr>\n",
              "    <tr>\n",
              "      <th>90.000</th>\n",
              "      <td>3</td>\n",
              "    </tr>\n",
              "    <tr>\n",
              "      <th>82.000</th>\n",
              "      <td>3</td>\n",
              "    </tr>\n",
              "    <tr>\n",
              "      <th>64.000</th>\n",
              "      <td>3</td>\n",
              "    </tr>\n",
              "    <tr>\n",
              "      <th>69.000</th>\n",
              "      <td>3</td>\n",
              "    </tr>\n",
              "    <tr>\n",
              "      <th>46.000</th>\n",
              "      <td>3</td>\n",
              "    </tr>\n",
              "    <tr>\n",
              "      <th>57.000</th>\n",
              "      <td>2</td>\n",
              "    </tr>\n",
              "    <tr>\n",
              "      <th>44.000</th>\n",
              "      <td>2</td>\n",
              "    </tr>\n",
              "    <tr>\n",
              "      <th>78.000</th>\n",
              "      <td>2</td>\n",
              "    </tr>\n",
              "    <tr>\n",
              "      <th>77.000</th>\n",
              "      <td>2</td>\n",
              "    </tr>\n",
              "    <tr>\n",
              "      <th>95.000</th>\n",
              "      <td>2</td>\n",
              "    </tr>\n",
              "    <tr>\n",
              "      <th>48.000</th>\n",
              "      <td>2</td>\n",
              "    </tr>\n",
              "    <tr>\n",
              "      <th>67.000</th>\n",
              "      <td>2</td>\n",
              "    </tr>\n",
              "    <tr>\n",
              "      <th>66.000</th>\n",
              "      <td>2</td>\n",
              "    </tr>\n",
              "    <tr>\n",
              "      <th>60.667</th>\n",
              "      <td>2</td>\n",
              "    </tr>\n",
              "    <tr>\n",
              "      <th>54.000</th>\n",
              "      <td>2</td>\n",
              "    </tr>\n",
              "    <tr>\n",
              "      <th>56.000</th>\n",
              "      <td>1</td>\n",
              "    </tr>\n",
              "    <tr>\n",
              "      <th>79.000</th>\n",
              "      <td>1</td>\n",
              "    </tr>\n",
              "    <tr>\n",
              "      <th>41.000</th>\n",
              "      <td>1</td>\n",
              "    </tr>\n",
              "    <tr>\n",
              "      <th>81.000</th>\n",
              "      <td>1</td>\n",
              "    </tr>\n",
              "    <tr>\n",
              "      <th>43.000</th>\n",
              "      <td>1</td>\n",
              "    </tr>\n",
              "    <tr>\n",
              "      <th>86.000</th>\n",
              "      <td>1</td>\n",
              "    </tr>\n",
              "    <tr>\n",
              "      <th>87.000</th>\n",
              "      <td>1</td>\n",
              "    </tr>\n",
              "    <tr>\n",
              "      <th>94.000</th>\n",
              "      <td>1</td>\n",
              "    </tr>\n",
              "    <tr>\n",
              "      <th>47.000</th>\n",
              "      <td>1</td>\n",
              "    </tr>\n",
              "  </tbody>\n",
              "</table>\n",
              "</div>"
            ],
            "text/plain": [
              "        anaemia\n",
              "age            \n",
              "60.000       33\n",
              "50.000       27\n",
              "65.000       26\n",
              "70.000       25\n",
              "45.000       19\n",
              "55.000       17\n",
              "75.000       11\n",
              "58.000       10\n",
              "53.000       10\n",
              "63.000        8\n",
              "40.000        7\n",
              "42.000        7\n",
              "80.000        7\n",
              "72.000        7\n",
              "85.000        6\n",
              "68.000        5\n",
              "62.000        5\n",
              "52.000        5\n",
              "73.000        4\n",
              "59.000        4\n",
              "61.000        4\n",
              "51.000        4\n",
              "49.000        4\n",
              "90.000        3\n",
              "82.000        3\n",
              "64.000        3\n",
              "69.000        3\n",
              "46.000        3\n",
              "57.000        2\n",
              "44.000        2\n",
              "78.000        2\n",
              "77.000        2\n",
              "95.000        2\n",
              "48.000        2\n",
              "67.000        2\n",
              "66.000        2\n",
              "60.667        2\n",
              "54.000        2\n",
              "56.000        1\n",
              "79.000        1\n",
              "41.000        1\n",
              "81.000        1\n",
              "43.000        1\n",
              "86.000        1\n",
              "87.000        1\n",
              "94.000        1\n",
              "47.000        1"
            ]
          },
          "metadata": {
            "tags": []
          },
          "execution_count": 208
        }
      ]
    },
    {
      "cell_type": "code",
      "metadata": {
        "id": "SfHHY-KNMDET",
        "outputId": "a9ff89f5-76d6-4e39-c6c7-9b5668fac807",
        "colab": {
          "base_uri": "https://localhost:8080/",
          "height": 488
        }
      },
      "source": [
        "plt.figure(figsize=(15,7))\n",
        "plt.title(\"Distribution of Anaemia across different ages\",fontweight =800,fontsize=20)\n",
        "plt.xlabel('Age',fontsize=15);\n",
        "plt.ylabel('Anaemia Count',fontsize=15)\n",
        "plt.scatter(anaemia_df.index,anaemia_df,c=\"red\")"
      ],
      "execution_count": 209,
      "outputs": [
        {
          "output_type": "execute_result",
          "data": {
            "text/plain": [
              "<matplotlib.collections.PathCollection at 0x7f60f88e4710>"
            ]
          },
          "metadata": {
            "tags": []
          },
          "execution_count": 209
        },
        {
          "output_type": "display_data",
          "data": {
            "image/png": "[encoded data removed]",
            "text/plain": [
              "<Figure size 1080x504 with 1 Axes>"
            ]
          },
          "metadata": {
            "tags": []
          }
        }
      ]
    },
    {
      "cell_type": "markdown",
      "metadata": {
        "id": "73f7D6T2rlrw"
      },
      "source": [
        "###**Ejection fraction (EF)**\n",
        "EF is a measurement, expressed as a percentage, of how much blood the left ventricle pumps out with each contraction. \n",
        "\n",
        "* A normal heart’s ejection fraction may be between 50 and 70 percent.\n",
        "* A ejection fraction measurement under 40 percent may be evidence of heart failure or cardiomyopathy.\n",
        "* An ejection fraction measurement higher than 75 percent may indicate a heart condition such as hypertrophic cardiomyopathy.  "
      ]
    },
    {
      "cell_type": "code",
      "metadata": {
        "id": "SxZwtfbG8vfc"
      },
      "source": [
        "def ef_category(ejection_fraction):\n",
        "  if ejection_fraction == 50 and ejection_fraction <= 70:\n",
        "    return 'Normal EF'\n",
        "  elif ejection_fraction <=40:\n",
        "    return 'Low EF' \n",
        "  elif ejection_fraction == 41 and ejection_fraction <=49:\n",
        "    return 'Borderline EF'\n",
        "  elif ejection_fraction > 75:\n",
        "    return 'High EF'  \n",
        "  else:\n",
        "    return 'NA'  "
      ],
      "execution_count": 215,
      "outputs": []
    },
    {
      "cell_type": "code",
      "metadata": {
        "id": "vDhIgj8W8vfp"
      },
      "source": [
        "heart_df['EF_category'] = heart_df['ejection_fraction'].apply(lambda ejection_fraction: ef_category(ejection_fraction))"
      ],
      "execution_count": 216,
      "outputs": []
    },
    {
      "cell_type": "code",
      "metadata": {
        "id": "RNr0T5BbsKdJ",
        "outputId": "5f2a6fbb-205e-4661-e5c2-a320cb9e523b",
        "colab": {
          "base_uri": "https://localhost:8080/",
          "height": 439
        }
      },
      "source": [
        "heart_df"
      ],
      "execution_count": 217,
      "outputs": [
        {
          "output_type": "execute_result",
          "data": {
            "text/html": [
              "<div>\n",
              "<style scoped>\n",
              "    .dataframe tbody tr th:only-of-type {\n",
              "        vertical-align: middle;\n",
              "    }\n",
              "\n",
              "    .dataframe tbody tr th {\n",
              "        vertical-align: top;\n",
              "    }\n",
              "\n",
              "    .dataframe thead th {\n",
              "        text-align: right;\n",
              "    }\n",
              "</style>\n",
              "<table border=\"1\" class=\"dataframe\">\n",
              "  <thead>\n",
              "    <tr style=\"text-align: right;\">\n",
              "      <th></th>\n",
              "      <th>age</th>\n",
              "      <th>anaemia</th>\n",
              "      <th>creatinine_phosphokinase</th>\n",
              "      <th>diabetes</th>\n",
              "      <th>ejection_fraction</th>\n",
              "      <th>high_blood_pressure</th>\n",
              "      <th>platelets</th>\n",
              "      <th>serum_creatinine</th>\n",
              "      <th>serum_sodium</th>\n",
              "      <th>sex</th>\n",
              "      <th>smoking</th>\n",
              "      <th>time</th>\n",
              "      <th>DEATH_EVENT</th>\n",
              "      <th>age_category</th>\n",
              "      <th>gender</th>\n",
              "      <th>EF_category</th>\n",
              "    </tr>\n",
              "  </thead>\n",
              "  <tbody>\n",
              "    <tr>\n",
              "      <th>0</th>\n",
              "      <td>75.0</td>\n",
              "      <td>0</td>\n",
              "      <td>582</td>\n",
              "      <td>0</td>\n",
              "      <td>20</td>\n",
              "      <td>1</td>\n",
              "      <td>265000.00</td>\n",
              "      <td>1.9</td>\n",
              "      <td>130</td>\n",
              "      <td>1</td>\n",
              "      <td>0</td>\n",
              "      <td>4</td>\n",
              "      <td>1</td>\n",
              "      <td>S</td>\n",
              "      <td>M</td>\n",
              "      <td>Low EF</td>\n",
              "    </tr>\n",
              "    <tr>\n",
              "      <th>1</th>\n",
              "      <td>55.0</td>\n",
              "      <td>0</td>\n",
              "      <td>7861</td>\n",
              "      <td>0</td>\n",
              "      <td>38</td>\n",
              "      <td>0</td>\n",
              "      <td>263358.03</td>\n",
              "      <td>1.1</td>\n",
              "      <td>136</td>\n",
              "      <td>1</td>\n",
              "      <td>0</td>\n",
              "      <td>6</td>\n",
              "      <td>1</td>\n",
              "      <td>MA</td>\n",
              "      <td>M</td>\n",
              "      <td>Low EF</td>\n",
              "    </tr>\n",
              "    <tr>\n",
              "      <th>2</th>\n",
              "      <td>65.0</td>\n",
              "      <td>0</td>\n",
              "      <td>146</td>\n",
              "      <td>0</td>\n",
              "      <td>20</td>\n",
              "      <td>0</td>\n",
              "      <td>162000.00</td>\n",
              "      <td>1.3</td>\n",
              "      <td>129</td>\n",
              "      <td>1</td>\n",
              "      <td>1</td>\n",
              "      <td>7</td>\n",
              "      <td>1</td>\n",
              "      <td>S</td>\n",
              "      <td>M</td>\n",
              "      <td>Low EF</td>\n",
              "    </tr>\n",
              "    <tr>\n",
              "      <th>3</th>\n",
              "      <td>50.0</td>\n",
              "      <td>1</td>\n",
              "      <td>111</td>\n",
              "      <td>0</td>\n",
              "      <td>20</td>\n",
              "      <td>0</td>\n",
              "      <td>210000.00</td>\n",
              "      <td>1.9</td>\n",
              "      <td>137</td>\n",
              "      <td>1</td>\n",
              "      <td>0</td>\n",
              "      <td>7</td>\n",
              "      <td>1</td>\n",
              "      <td>MA</td>\n",
              "      <td>M</td>\n",
              "      <td>Low EF</td>\n",
              "    </tr>\n",
              "    <tr>\n",
              "      <th>4</th>\n",
              "      <td>65.0</td>\n",
              "      <td>1</td>\n",
              "      <td>160</td>\n",
              "      <td>1</td>\n",
              "      <td>20</td>\n",
              "      <td>0</td>\n",
              "      <td>327000.00</td>\n",
              "      <td>2.7</td>\n",
              "      <td>116</td>\n",
              "      <td>0</td>\n",
              "      <td>0</td>\n",
              "      <td>8</td>\n",
              "      <td>1</td>\n",
              "      <td>S</td>\n",
              "      <td>F</td>\n",
              "      <td>Low EF</td>\n",
              "    </tr>\n",
              "    <tr>\n",
              "      <th>...</th>\n",
              "      <td>...</td>\n",
              "      <td>...</td>\n",
              "      <td>...</td>\n",
              "      <td>...</td>\n",
              "      <td>...</td>\n",
              "      <td>...</td>\n",
              "      <td>...</td>\n",
              "      <td>...</td>\n",
              "      <td>...</td>\n",
              "      <td>...</td>\n",
              "      <td>...</td>\n",
              "      <td>...</td>\n",
              "      <td>...</td>\n",
              "      <td>...</td>\n",
              "      <td>...</td>\n",
              "      <td>...</td>\n",
              "    </tr>\n",
              "    <tr>\n",
              "      <th>294</th>\n",
              "      <td>62.0</td>\n",
              "      <td>0</td>\n",
              "      <td>61</td>\n",
              "      <td>1</td>\n",
              "      <td>38</td>\n",
              "      <td>1</td>\n",
              "      <td>155000.00</td>\n",
              "      <td>1.1</td>\n",
              "      <td>143</td>\n",
              "      <td>1</td>\n",
              "      <td>1</td>\n",
              "      <td>270</td>\n",
              "      <td>0</td>\n",
              "      <td>S</td>\n",
              "      <td>M</td>\n",
              "      <td>Low EF</td>\n",
              "    </tr>\n",
              "    <tr>\n",
              "      <th>295</th>\n",
              "      <td>55.0</td>\n",
              "      <td>0</td>\n",
              "      <td>1820</td>\n",
              "      <td>0</td>\n",
              "      <td>38</td>\n",
              "      <td>0</td>\n",
              "      <td>270000.00</td>\n",
              "      <td>1.2</td>\n",
              "      <td>139</td>\n",
              "      <td>0</td>\n",
              "      <td>0</td>\n",
              "      <td>271</td>\n",
              "      <td>0</td>\n",
              "      <td>MA</td>\n",
              "      <td>F</td>\n",
              "      <td>Low EF</td>\n",
              "    </tr>\n",
              "    <tr>\n",
              "      <th>296</th>\n",
              "      <td>45.0</td>\n",
              "      <td>0</td>\n",
              "      <td>2060</td>\n",
              "      <td>1</td>\n",
              "      <td>60</td>\n",
              "      <td>0</td>\n",
              "      <td>742000.00</td>\n",
              "      <td>0.8</td>\n",
              "      <td>138</td>\n",
              "      <td>0</td>\n",
              "      <td>0</td>\n",
              "      <td>278</td>\n",
              "      <td>0</td>\n",
              "      <td>A</td>\n",
              "      <td>F</td>\n",
              "      <td>NA</td>\n",
              "    </tr>\n",
              "    <tr>\n",
              "      <th>297</th>\n",
              "      <td>45.0</td>\n",
              "      <td>0</td>\n",
              "      <td>2413</td>\n",
              "      <td>0</td>\n",
              "      <td>38</td>\n",
              "      <td>0</td>\n",
              "      <td>140000.00</td>\n",
              "      <td>1.4</td>\n",
              "      <td>140</td>\n",
              "      <td>1</td>\n",
              "      <td>1</td>\n",
              "      <td>280</td>\n",
              "      <td>0</td>\n",
              "      <td>A</td>\n",
              "      <td>M</td>\n",
              "      <td>Low EF</td>\n",
              "    </tr>\n",
              "    <tr>\n",
              "      <th>298</th>\n",
              "      <td>50.0</td>\n",
              "      <td>0</td>\n",
              "      <td>196</td>\n",
              "      <td>0</td>\n",
              "      <td>45</td>\n",
              "      <td>0</td>\n",
              "      <td>395000.00</td>\n",
              "      <td>1.6</td>\n",
              "      <td>136</td>\n",
              "      <td>1</td>\n",
              "      <td>1</td>\n",
              "      <td>285</td>\n",
              "      <td>0</td>\n",
              "      <td>MA</td>\n",
              "      <td>M</td>\n",
              "      <td>NA</td>\n",
              "    </tr>\n",
              "  </tbody>\n",
              "</table>\n",
              "<p>299 rows × 16 columns</p>\n",
              "</div>"
            ],
            "text/plain": [
              "      age  anaemia  creatinine_phosphokinase  ...  age_category  gender  EF_category\n",
              "0    75.0        0                       582  ...             S       M       Low EF\n",
              "1    55.0        0                      7861  ...            MA       M       Low EF\n",
              "2    65.0        0                       146  ...             S       M       Low EF\n",
              "3    50.0        1                       111  ...            MA       M       Low EF\n",
              "4    65.0        1                       160  ...             S       F       Low EF\n",
              "..    ...      ...                       ...  ...           ...     ...          ...\n",
              "294  62.0        0                        61  ...             S       M       Low EF\n",
              "295  55.0        0                      1820  ...            MA       F       Low EF\n",
              "296  45.0        0                      2060  ...             A       F           NA\n",
              "297  45.0        0                      2413  ...             A       M       Low EF\n",
              "298  50.0        0                       196  ...            MA       M           NA\n",
              "\n",
              "[299 rows x 16 columns]"
            ]
          },
          "metadata": {
            "tags": []
          },
          "execution_count": 217
        }
      ]
    },
    {
      "cell_type": "markdown",
      "metadata": {
        "id": "PauCmOjB8veG"
      },
      "source": [
        "Let us save and upload our work to Jovian before continuing"
      ]
    },
    {
      "cell_type": "code",
      "metadata": {
        "id": "PM59IdVk8veH"
      },
      "source": [
        "import jovian"
      ],
      "execution_count": 218,
      "outputs": []
    },
    {
      "cell_type": "code",
      "metadata": {
        "id": "NO283ayD8veO",
        "outputId": "3e1002c3-0283-44a6-92ef-34e4e7d196b5",
        "colab": {
          "base_uri": "https://localhost:8080/",
          "height": 86
        }
      },
      "source": [
        "jovian.commit(project=project_name)"
      ],
      "execution_count": 219,
      "outputs": [
        {
          "output_type": "stream",
          "text": [
            "[jovian] Detected Colab notebook...\u001b[0m\n",
            "[jovian] Uploading colab notebook to Jovian...\u001b[0m\n",
            "[jovian] Committed successfully! https://jovian.ml/srilakshmimandapaka/exploratory-data-analysis-of-heart-failure-prediction\u001b[0m\n"
          ],
          "name": "stdout"
        },
        {
          "output_type": "execute_result",
          "data": {
            "application/vnd.google.colaboratory.intrinsic+json": {
              "type": "string"
            },
            "text/plain": [
              "'https://jovian.ml/srilakshmimandapaka/exploratory-data-analysis-of-heart-failure-prediction'"
            ]
          },
          "metadata": {
            "tags": []
          },
          "execution_count": 219
        }
      ]
    },
    {
      "cell_type": "markdown",
      "metadata": {
        "id": "LbCmDrK38veT"
      },
      "source": [
        "## **Asking and Answering Questions**\n",
        "\n",
        "Let's explore our data into a more deeper level by posing some questions and answering them as well..\n",
        "\n"
      ]
    },
    {
      "cell_type": "markdown",
      "metadata": {
        "id": "aRcm22-i8veV"
      },
      "source": [
        "#### Q1:  Which age category has majority death rate ?\n"
      ]
    },
    {
      "cell_type": "code",
      "metadata": {
        "id": "wuGc2ZB48veW"
      },
      "source": [
        "age_death_df = heart_df.groupby('age_category')[['DEATH_EVENT']].count()"
      ],
      "execution_count": 220,
      "outputs": []
    },
    {
      "cell_type": "code",
      "metadata": {
        "id": "zAomPLP-8vea",
        "outputId": "95f44427-fcdf-4bc3-abd8-4256eef29669",
        "colab": {
          "base_uri": "https://localhost:8080/",
          "height": 173
        }
      },
      "source": [
        "age_death_df"
      ],
      "execution_count": 221,
      "outputs": [
        {
          "output_type": "execute_result",
          "data": {
            "text/html": [
              "<div>\n",
              "<style scoped>\n",
              "    .dataframe tbody tr th:only-of-type {\n",
              "        vertical-align: middle;\n",
              "    }\n",
              "\n",
              "    .dataframe tbody tr th {\n",
              "        vertical-align: top;\n",
              "    }\n",
              "\n",
              "    .dataframe thead th {\n",
              "        text-align: right;\n",
              "    }\n",
              "</style>\n",
              "<table border=\"1\" class=\"dataframe\">\n",
              "  <thead>\n",
              "    <tr style=\"text-align: right;\">\n",
              "      <th></th>\n",
              "      <th>DEATH_EVENT</th>\n",
              "    </tr>\n",
              "    <tr>\n",
              "      <th>age_category</th>\n",
              "      <th></th>\n",
              "    </tr>\n",
              "  </thead>\n",
              "  <tbody>\n",
              "    <tr>\n",
              "      <th>A</th>\n",
              "      <td>37</td>\n",
              "    </tr>\n",
              "    <tr>\n",
              "      <th>MA</th>\n",
              "      <td>92</td>\n",
              "    </tr>\n",
              "    <tr>\n",
              "      <th>S</th>\n",
              "      <td>137</td>\n",
              "    </tr>\n",
              "  </tbody>\n",
              "</table>\n",
              "</div>"
            ],
            "text/plain": [
              "              DEATH_EVENT\n",
              "age_category             \n",
              "A                      37\n",
              "MA                     92\n",
              "S                     137"
            ]
          },
          "metadata": {
            "tags": []
          },
          "execution_count": 221
        }
      ]
    },
    {
      "cell_type": "code",
      "metadata": {
        "id": "uVE9YrA_8veh",
        "outputId": "7289ccc2-f5d4-4ccc-ec4e-c37b3997b4c4",
        "colab": {
          "base_uri": "https://localhost:8080/",
          "height": 412
        }
      },
      "source": [
        "plt.figure(figsize=(12,6))\n",
        "plt.title('Death rates as per Age Category',fontweight=800,fontsize=20)\n",
        "plt.xlabel('Age Category')\n",
        "plt.ylabel('Total no. of deaths')\n",
        "plt.xticks(age_death_df.DEATH_EVENT)\n",
        "plt.bar(age_death_df.index,age_death_df.DEATH_EVENT,width=0.8, color=['#EF2920','#CD202D','#ECC5F2'], alpha=0.8)"
      ],
      "execution_count": 222,
      "outputs": [
        {
          "output_type": "execute_result",
          "data": {
            "text/plain": [
              "<BarContainer object of 3 artists>"
            ]
          },
          "metadata": {
            "tags": []
          },
          "execution_count": 222
        },
        {
          "output_type": "display_data",
          "data": {
            "image/png": "[encoded data removed]",
            "text/plain": [
              "<Figure size 864x432 with 1 Axes>"
            ]
          },
          "metadata": {
            "tags": []
          }
        }
      ]
    },
    {
      "cell_type": "markdown",
      "metadata": {
        "id": "H8HHZsu3Nkog"
      },
      "source": [
        "From the above analysis,we can conclude the ***minimum*** in **Adults** whereas ***maximum*** was observed in **Senior Citizens** , Middle Aged being intermediate."
      ]
    },
    {
      "cell_type": "markdown",
      "metadata": {
        "id": "vpH730Ua8vel"
      },
      "source": [
        "#### Q2: Which gender is most impacted by the death rate ?"
      ]
    },
    {
      "cell_type": "code",
      "metadata": {
        "id": "_BHY76hX8vem",
        "outputId": "2debf26a-3771-414c-cdbc-08e04fb985f6",
        "colab": {
          "base_uri": "https://localhost:8080/",
          "height": 409
        }
      },
      "source": [
        "heart_df['gender'].value_counts().plot(figsize=(12,6),kind='bar',color=['#157F39','#A96E71']).set_title(\"Total records of Male & Female\")"
      ],
      "execution_count": 223,
      "outputs": [
        {
          "output_type": "execute_result",
          "data": {
            "text/plain": [
              "Text(0.5, 1.0, 'Total records of Male & Female')"
            ]
          },
          "metadata": {
            "tags": []
          },
          "execution_count": 223
        },
        {
          "output_type": "display_data",
          "data": {
            "image/png": "[encoded data removed]",
            "text/plain": [
              "<Figure size 864x432 with 1 Axes>"
            ]
          },
          "metadata": {
            "tags": []
          }
        }
      ]
    },
    {
      "cell_type": "code",
      "metadata": {
        "id": "xBGXl6kz8veq",
        "outputId": "865f8b94-cd03-49c4-ca25-3924d32c8558",
        "colab": {
          "base_uri": "https://localhost:8080/",
          "height": 68
        }
      },
      "source": [
        "gender_death_counts = heart_df['gender'].loc[heart_df['DEATH_EVENT']==1].value_counts()\n",
        "gender_death_counts"
      ],
      "execution_count": 224,
      "outputs": [
        {
          "output_type": "execute_result",
          "data": {
            "text/plain": [
              "M    62\n",
              "F    34\n",
              "Name: gender, dtype: int64"
            ]
          },
          "metadata": {
            "tags": []
          },
          "execution_count": 224
        }
      ]
    },
    {
      "cell_type": "code",
      "metadata": {
        "id": "VJE_ldLG8vew",
        "outputId": "ac9d5863-77b7-4cef-e5a1-ac8d71a43a92",
        "colab": {
          "base_uri": "https://localhost:8080/",
          "height": 432
        }
      },
      "source": [
        "plt.figure(figsize=(15,7))\n",
        "plt.title(\"Gender having max number of Deaths\",fontweight=600,fontsize=20)\n",
        "plt.pie(gender_death_counts, labels=gender_death_counts.index, autopct='%1.1f%%', startangle=180,colors =['#926577','#FFF64D']);"
      ],
      "execution_count": 225,
      "outputs": [
        {
          "output_type": "display_data",
          "data": {
            "image/png": "[encoded data removed]",
            "text/plain": [
              "<Figure size 1080x504 with 1 Axes>"
            ]
          },
          "metadata": {
            "tags": []
          }
        }
      ]
    },
    {
      "cell_type": "markdown",
      "metadata": {
        "id": "m60Eo7ZKOF1L"
      },
      "source": [
        "From the above analysis we can conclude that the death rate in **Males** is observed ***highest***.\n",
        "\n"
      ]
    },
    {
      "cell_type": "markdown",
      "metadata": {
        "id": "up0Jab_C8ve0"
      },
      "source": [
        "#### Q3: Which age category is having high risk of heart disease ?"
      ]
    },
    {
      "cell_type": "code",
      "metadata": {
        "id": "6oblG9Pf8ve1"
      },
      "source": [
        "ac_hrt_risk_df = heart_df['age_category'].loc[heart_df['diabetes']==1].value_counts()"
      ],
      "execution_count": 226,
      "outputs": []
    },
    {
      "cell_type": "code",
      "metadata": {
        "id": "Ibp3J8M58ve9",
        "outputId": "4ff6966f-e93e-472d-d6f9-a6f253e85281",
        "colab": {
          "base_uri": "https://localhost:8080/",
          "height": 85
        }
      },
      "source": [
        "ac_hrt_risk_df"
      ],
      "execution_count": 227,
      "outputs": [
        {
          "output_type": "execute_result",
          "data": {
            "text/plain": [
              "S     52\n",
              "MA    37\n",
              "A     17\n",
              "Name: age_category, dtype: int64"
            ]
          },
          "metadata": {
            "tags": []
          },
          "execution_count": 227
        }
      ]
    },
    {
      "cell_type": "code",
      "metadata": {
        "id": "tONiVKzs8vfB",
        "outputId": "c183f444-ed2c-48d0-cc9d-ff4c85e04269",
        "colab": {
          "base_uri": "https://localhost:8080/",
          "height": 488
        }
      },
      "source": [
        "plt.figure(figsize=(15,7))\n",
        "plt.title('Distribution of heart disease risk',fontweight=600,fontsize = 20)\n",
        "plt.xlabel('Age Category',fontsize=15)\n",
        "plt.ylabel('Diabetes Count',fontsize=15)\n",
        "plt.plot(ac_hrt_risk_df.index,ac_hrt_risk_df,color=\"#B92B74\",linestyle='dashdot',linewidth=5,markerfacecolor='yellow',markersize=12)"
      ],
      "execution_count": 228,
      "outputs": [
        {
          "output_type": "execute_result",
          "data": {
            "text/plain": [
              "[<matplotlib.lines.Line2D at 0x7f60f87cb6a0>]"
            ]
          },
          "metadata": {
            "tags": []
          },
          "execution_count": 228
        },
        {
          "output_type": "display_data",
          "data": {
            "image/png": "[encoded data removed]",
            "text/plain": [
              "<Figure size 1080x504 with 1 Axes>"
            ]
          },
          "metadata": {
            "tags": []
          }
        }
      ]
    },
    {
      "cell_type": "markdown",
      "metadata": {
        "id": "vMHm9xlPOjiK"
      },
      "source": [
        "From the above analysis we can conclude that the risk of getting heart disease is ***high*** in **Senior Citizens** when compared to others."
      ]
    },
    {
      "cell_type": "markdown",
      "metadata": {
        "id": "2n54IB-i8vfI"
      },
      "source": [
        "#### Q4: Average Platelets count & existence of high blood pressure gender-wise?"
      ]
    },
    {
      "cell_type": "code",
      "metadata": {
        "id": "9hWMtdsh8vfJ",
        "outputId": "676d4683-623f-41c5-b567-c92d5e253da4",
        "colab": {
          "base_uri": "https://localhost:8080/",
          "height": 204
        }
      },
      "source": [
        "heart_df.groupby(['high_blood_pressure','gender'])[['platelets']].count()"
      ],
      "execution_count": 229,
      "outputs": [
        {
          "output_type": "execute_result",
          "data": {
            "text/html": [
              "<div>\n",
              "<style scoped>\n",
              "    .dataframe tbody tr th:only-of-type {\n",
              "        vertical-align: middle;\n",
              "    }\n",
              "\n",
              "    .dataframe tbody tr th {\n",
              "        vertical-align: top;\n",
              "    }\n",
              "\n",
              "    .dataframe thead th {\n",
              "        text-align: right;\n",
              "    }\n",
              "</style>\n",
              "<table border=\"1\" class=\"dataframe\">\n",
              "  <thead>\n",
              "    <tr style=\"text-align: right;\">\n",
              "      <th></th>\n",
              "      <th></th>\n",
              "      <th>platelets</th>\n",
              "    </tr>\n",
              "    <tr>\n",
              "      <th>high_blood_pressure</th>\n",
              "      <th>gender</th>\n",
              "      <th></th>\n",
              "    </tr>\n",
              "  </thead>\n",
              "  <tbody>\n",
              "    <tr>\n",
              "      <th rowspan=\"2\" valign=\"top\">0</th>\n",
              "      <th>F</th>\n",
              "      <td>61</td>\n",
              "    </tr>\n",
              "    <tr>\n",
              "      <th>M</th>\n",
              "      <td>133</td>\n",
              "    </tr>\n",
              "    <tr>\n",
              "      <th rowspan=\"2\" valign=\"top\">1</th>\n",
              "      <th>F</th>\n",
              "      <td>44</td>\n",
              "    </tr>\n",
              "    <tr>\n",
              "      <th>M</th>\n",
              "      <td>61</td>\n",
              "    </tr>\n",
              "  </tbody>\n",
              "</table>\n",
              "</div>"
            ],
            "text/plain": [
              "                            platelets\n",
              "high_blood_pressure gender           \n",
              "0                   F              61\n",
              "                    M             133\n",
              "1                   F              44\n",
              "                    M              61"
            ]
          },
          "metadata": {
            "tags": []
          },
          "execution_count": 229
        }
      ]
    },
    {
      "cell_type": "code",
      "metadata": {
        "id": "B4dDgrcL8vfS",
        "outputId": "4b6cd755-36b3-44af-9fad-33573fbd7e4e",
        "colab": {
          "base_uri": "https://localhost:8080/",
          "height": 353
        }
      },
      "source": [
        "heart_df.groupby(['high_blood_pressure','gender'])['platelets'].mean().unstack().plot(kind='bar',stacked =True)"
      ],
      "execution_count": 230,
      "outputs": [
        {
          "output_type": "execute_result",
          "data": {
            "text/plain": [
              "<matplotlib.axes._subplots.AxesSubplot at 0x7f60f877b160>"
            ]
          },
          "metadata": {
            "tags": []
          },
          "execution_count": 230
        },
        {
          "output_type": "display_data",
          "data": {
            "image/png": "[encoded data removed]",
            "text/plain": [
              "<Figure size 648x360 with 1 Axes>"
            ]
          },
          "metadata": {
            "tags": []
          }
        }
      ]
    },
    {
      "cell_type": "markdown",
      "metadata": {
        "id": "HB_E6QEfQj6r"
      },
      "source": [
        "We already aware regarding the representation of high blood pressure classified at the starting of EDA denoting:\n",
        "\n",
        "* '0' as no blood pressure\n",
        "* '1' as existence of blood pressure.\n",
        "\n",
        "So,from the above analysis we can conclude that more number of ***Females*** and ***Males*** are suffering from **High Blood Pressure** as well as **Average platelets count**."
      ]
    },
    {
      "cell_type": "markdown",
      "metadata": {
        "id": "CnClxJ_so4Va"
      },
      "source": [
        "#### Q5: What is the average age of people falling into different ejection fraction categories?"
      ]
    },
    {
      "cell_type": "code",
      "metadata": {
        "id": "tiqSXCw8sryj"
      },
      "source": [
        "ef_avg_age = heart_df.groupby(['EF_category'])[['age']].mean()"
      ],
      "execution_count": 231,
      "outputs": []
    },
    {
      "cell_type": "code",
      "metadata": {
        "id": "AcC9Skdlwj4l",
        "outputId": "4e239c35-1667-4ca3-df76-cf91d92edb00",
        "colab": {
          "base_uri": "https://localhost:8080/",
          "height": 204
        }
      },
      "source": [
        "ef_avg_age"
      ],
      "execution_count": 232,
      "outputs": [
        {
          "output_type": "execute_result",
          "data": {
            "text/html": [
              "<div>\n",
              "<style scoped>\n",
              "    .dataframe tbody tr th:only-of-type {\n",
              "        vertical-align: middle;\n",
              "    }\n",
              "\n",
              "    .dataframe tbody tr th {\n",
              "        vertical-align: top;\n",
              "    }\n",
              "\n",
              "    .dataframe thead th {\n",
              "        text-align: right;\n",
              "    }\n",
              "</style>\n",
              "<table border=\"1\" class=\"dataframe\">\n",
              "  <thead>\n",
              "    <tr style=\"text-align: right;\">\n",
              "      <th></th>\n",
              "      <th>age</th>\n",
              "    </tr>\n",
              "    <tr>\n",
              "      <th>EF_category</th>\n",
              "      <th></th>\n",
              "    </tr>\n",
              "  </thead>\n",
              "  <tbody>\n",
              "    <tr>\n",
              "      <th>High EF</th>\n",
              "      <td>45.000000</td>\n",
              "    </tr>\n",
              "    <tr>\n",
              "      <th>Low EF</th>\n",
              "      <td>60.257233</td>\n",
              "    </tr>\n",
              "    <tr>\n",
              "      <th>NA</th>\n",
              "      <td>60.689655</td>\n",
              "    </tr>\n",
              "    <tr>\n",
              "      <th>Normal EF</th>\n",
              "      <td>68.000000</td>\n",
              "    </tr>\n",
              "  </tbody>\n",
              "</table>\n",
              "</div>"
            ],
            "text/plain": [
              "                   age\n",
              "EF_category           \n",
              "High EF      45.000000\n",
              "Low EF       60.257233\n",
              "NA           60.689655\n",
              "Normal EF    68.000000"
            ]
          },
          "metadata": {
            "tags": []
          },
          "execution_count": 232
        }
      ]
    },
    {
      "cell_type": "code",
      "metadata": {
        "id": "BA7baXJGwjtK",
        "outputId": "2b908397-502d-46a0-9b38-ed172b05ad1e",
        "colab": {
          "base_uri": "https://localhost:8080/",
          "height": 204
        }
      },
      "source": [
        "round(ef_avg_age,2)"
      ],
      "execution_count": 233,
      "outputs": [
        {
          "output_type": "execute_result",
          "data": {
            "text/html": [
              "<div>\n",
              "<style scoped>\n",
              "    .dataframe tbody tr th:only-of-type {\n",
              "        vertical-align: middle;\n",
              "    }\n",
              "\n",
              "    .dataframe tbody tr th {\n",
              "        vertical-align: top;\n",
              "    }\n",
              "\n",
              "    .dataframe thead th {\n",
              "        text-align: right;\n",
              "    }\n",
              "</style>\n",
              "<table border=\"1\" class=\"dataframe\">\n",
              "  <thead>\n",
              "    <tr style=\"text-align: right;\">\n",
              "      <th></th>\n",
              "      <th>age</th>\n",
              "    </tr>\n",
              "    <tr>\n",
              "      <th>EF_category</th>\n",
              "      <th></th>\n",
              "    </tr>\n",
              "  </thead>\n",
              "  <tbody>\n",
              "    <tr>\n",
              "      <th>High EF</th>\n",
              "      <td>45.00</td>\n",
              "    </tr>\n",
              "    <tr>\n",
              "      <th>Low EF</th>\n",
              "      <td>60.26</td>\n",
              "    </tr>\n",
              "    <tr>\n",
              "      <th>NA</th>\n",
              "      <td>60.69</td>\n",
              "    </tr>\n",
              "    <tr>\n",
              "      <th>Normal EF</th>\n",
              "      <td>68.00</td>\n",
              "    </tr>\n",
              "  </tbody>\n",
              "</table>\n",
              "</div>"
            ],
            "text/plain": [
              "               age\n",
              "EF_category       \n",
              "High EF      45.00\n",
              "Low EF       60.26\n",
              "NA           60.69\n",
              "Normal EF    68.00"
            ]
          },
          "metadata": {
            "tags": []
          },
          "execution_count": 233
        }
      ]
    },
    {
      "cell_type": "code",
      "metadata": {
        "id": "2v_SJQYIxKhB",
        "outputId": "f7a533c5-1728-4d1b-aaab-1e6b91704641",
        "colab": {
          "base_uri": "https://localhost:8080/",
          "height": 464
        }
      },
      "source": [
        "ef_avg_age.plot(figsize=(15,7),kind='barh',color = 'coral').set_title(\"Average age of people across various EF categories\")"
      ],
      "execution_count": 235,
      "outputs": [
        {
          "output_type": "execute_result",
          "data": {
            "text/plain": [
              "Text(0.5, 1.0, 'Average age of people across various EF categories')"
            ]
          },
          "metadata": {
            "tags": []
          },
          "execution_count": 235
        },
        {
          "output_type": "display_data",
          "data": {
            "image/png": "[encoded data removed]",
            "text/plain": [
              "<Figure size 1080x504 with 1 Axes>"
            ]
          },
          "metadata": {
            "tags": []
          }
        }
      ]
    },
    {
      "cell_type": "markdown",
      "metadata": {
        "id": "eYqcnSYH8vfs"
      },
      "source": [
        "Let us save and upload our work to Jovian before continuing."
      ]
    },
    {
      "cell_type": "code",
      "metadata": {
        "id": "8n_wGOdI8vfu"
      },
      "source": [
        "import jovian"
      ],
      "execution_count": 236,
      "outputs": []
    },
    {
      "cell_type": "code",
      "metadata": {
        "id": "ll77CCIR8vf1",
        "outputId": "9841434f-4c64-4cb0-ac8d-637b8e5d993c",
        "colab": {
          "base_uri": "https://localhost:8080/",
          "height": 86
        }
      },
      "source": [
        "jovian.commit(project=project_name)"
      ],
      "execution_count": 237,
      "outputs": [
        {
          "output_type": "stream",
          "text": [
            "[jovian] Detected Colab notebook...\u001b[0m\n",
            "[jovian] Uploading colab notebook to Jovian...\u001b[0m\n",
            "[jovian] Committed successfully! https://jovian.ml/srilakshmimandapaka/exploratory-data-analysis-of-heart-failure-prediction\u001b[0m\n"
          ],
          "name": "stdout"
        },
        {
          "output_type": "execute_result",
          "data": {
            "application/vnd.google.colaboratory.intrinsic+json": {
              "type": "string"
            },
            "text/plain": [
              "'https://jovian.ml/srilakshmimandapaka/exploratory-data-analysis-of-heart-failure-prediction'"
            ]
          },
          "metadata": {
            "tags": []
          },
          "execution_count": 237
        }
      ]
    },
    {
      "cell_type": "markdown",
      "metadata": {
        "id": "GPMCItia8vf4"
      },
      "source": [
        "## Inferences and Conclusion\n",
        "\n",
        "* People with **age 60 years** majorly fall into the **Patients** category.\n",
        "* Percentage of **Female smokers** are **very less** in comparison with Male  smokers who are very predominant.\n",
        "*  Anaemia count is high in people with **60 years** of age.\n",
        "*  **Seniors Citizens** are having majority of deaths.\n",
        "*  Gender most impacted by deaths are **Males** with 64.6% whereas **Females** with 35.4 %.\n",
        "* High risk of heart diseases was seen in **Senior Citizens**.\n",
        "*  The average platelets count and existence of High Blood Pressure is **17** more in **males** as compared to females.\n",
        "*  The average age of people falling into different **ejection fraction** categories is as follows:\n",
        "         * High EF - 45 years\n",
        "         * Low EF -  60.26 years\n",
        "         * Normal EF - 68 years\n",
        "         whereas an average of 60.69 years fall into the categories of \"Not Available (NA)\"."
      ]
    },
    {
      "cell_type": "code",
      "metadata": {
        "id": "2Z7hd6Ha8vf5"
      },
      "source": [
        "import jovian"
      ],
      "execution_count": 238,
      "outputs": []
    },
    {
      "cell_type": "code",
      "metadata": {
        "id": "ReVAg0YF8vf8",
        "outputId": "dfe42d88-cb10-42d5-ce7c-27d0faf62e1e",
        "colab": {
          "base_uri": "https://localhost:8080/",
          "height": 86
        }
      },
      "source": [
        "jovian.commit(project=project_name)"
      ],
      "execution_count": 240,
      "outputs": [
        {
          "output_type": "stream",
          "text": [
            "[jovian] Detected Colab notebook...\u001b[0m\n",
            "[jovian] Uploading colab notebook to Jovian...\u001b[0m\n",
            "[jovian] Committed successfully! https://jovian.ml/srilakshmimandapaka/exploratory-data-analysis-of-heart-failure-prediction\u001b[0m\n"
          ],
          "name": "stdout"
        },
        {
          "output_type": "execute_result",
          "data": {
            "application/vnd.google.colaboratory.intrinsic+json": {
              "type": "string"
            },
            "text/plain": [
              "'https://jovian.ml/srilakshmimandapaka/exploratory-data-analysis-of-heart-failure-prediction'"
            ]
          },
          "metadata": {
            "tags": []
          },
          "execution_count": 240
        }
      ]
    },
    {
      "cell_type": "markdown",
      "metadata": {
        "id": "Q591JrX-8vgC"
      },
      "source": [
        "## References and Future Work\n",
        "\n",
        "* Numerical computing with Numpy: https://jovian.ml/aakashns/python-numerical-computing-with-numpy\n",
        "* Analyzing tabular data with Pandas: https://jovian.ml/aakashns/python-pandas-data-analysis\n",
        "* Matplotlib & Seaborn tutorial: https://jovian.ml/aakashns/python-matplotlib-data-visualization\n",
        "* Pandas user guide: https://pandas.pydata.org/docs/user_guide/index.html\n",
        "* Matplotlib user guide: https://matplotlib.org/3.3.1/users/index.html\n",
        "* Seaborn user guide & tutorial: https://seaborn.pydata.org/tutorial.html\n",
        "* [Ejection Fraction Heart Failure Measurement](https://www.heart.org/en/health-topics/heart-failure/diagnosing-heart-failure/ejection-fraction-heart-failure-measurement#:~:text=A%20normal%20heart's%20ejection%20fraction,failure%20with%20preserved%20ejection%20fraction). \n",
        "* [Everything You Need to Know About Ejection Fraction](https://www.healthline.com/health/ejection-fraction#low-ef-causes)"
      ]
    },
    {
      "cell_type": "code",
      "metadata": {
        "id": "OR-nNJrR8vgD"
      },
      "source": [
        "import jovian"
      ],
      "execution_count": 244,
      "outputs": []
    },
    {
      "cell_type": "code",
      "metadata": {
        "scrolled": true,
        "id": "GrLmmZZv8vgI",
        "outputId": "25fe7dbc-1a52-4e06-9d9b-bf4ba04bc116",
        "colab": {
          "base_uri": "https://localhost:8080/",
          "height": 86
        }
      },
      "source": [
        "jovian.commit(project=project_name)"
      ],
      "execution_count": 245,
      "outputs": [
        {
          "output_type": "stream",
          "text": [
            "[jovian] Detected Colab notebook...\u001b[0m\n",
            "[jovian] Uploading colab notebook to Jovian...\u001b[0m\n",
            "[jovian] Committed successfully! https://jovian.ml/srilakshmimandapaka/exploratory-data-analysis-of-heart-failure-prediction\u001b[0m\n"
          ],
          "name": "stdout"
        },
        {
          "output_type": "execute_result",
          "data": {
            "application/vnd.google.colaboratory.intrinsic+json": {
              "type": "string"
            },
            "text/plain": [
              "'https://jovian.ml/srilakshmimandapaka/exploratory-data-analysis-of-heart-failure-prediction'"
            ]
          },
          "metadata": {
            "tags": []
          },
          "execution_count": 245
        }
      ]
    }
  ]
}